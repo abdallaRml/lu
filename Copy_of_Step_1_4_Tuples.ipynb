{
  "nbformat": 4,
  "nbformat_minor": 0,
  "metadata": {
    "anaconda-cloud": {},
    "kernelspec": {
      "display_name": "Python 3",
      "language": "python",
      "name": "python3"
    },
    "language_info": {
      "codemirror_mode": {
        "name": "ipython",
        "version": 3
      },
      "file_extension": ".py",
      "mimetype": "text/x-python",
      "name": "python",
      "nbconvert_exporter": "python",
      "pygments_lexer": "ipython3",
      "version": "3.7.1"
    },
    "colab": {
      "name": "Copy of Step_1_4_Tuples.ipynb",
      "provenance": [],
      "include_colab_link": true
    }
  },
  "cells": [
    {
      "cell_type": "markdown",
      "metadata": {
        "id": "view-in-github",
        "colab_type": "text"
      },
      "source": [
        "<a href=\"https://colab.research.google.com/github/abdallaRml/lu/blob/master/Copy_of_Step_1_4_Tuples.ipynb\" target=\"_parent\"><img src=\"https://colab.research.google.com/assets/colab-badge.svg\" alt=\"Open In Colab\"/></a>"
      ]
    },
    {
      "cell_type": "markdown",
      "metadata": {
        "id": "7-X-zJ2aiwqg",
        "colab_type": "text"
      },
      "source": [
        "### Tuples\n",
        "\n",
        "A tuple is a sequence of immutable Python objects. Tuples are sequences, just like lists. The differences between tuples and lists are, the tuples cannot be changed unlike lists and tuples use parentheses, whereas lists use square brackets"
      ]
    },
    {
      "cell_type": "code",
      "metadata": {
        "id": "qG549G17iwqh",
        "colab_type": "code",
        "outputId": "08e10e8f-aa51-4624-cdbc-f200dc4e81b3",
        "colab": {
          "base_uri": "https://localhost:8080/",
          "height": 68
        }
      },
      "source": [
        "# Creating a tuple\n",
        "\n",
        "Tuple = ()\n",
        "print (\"Empty Tuple: \", Tuple)\n",
        "\n",
        "Tuple = (1,)\n",
        "print (\"Tuple with a single item: \", Tuple)\n",
        "\n",
        "Tuple = ('a','b','c','d',1,2,3)\n",
        "print (\"Sample Tuple :\", Tuple)"
      ],
      "execution_count": 1,
      "outputs": [
        {
          "output_type": "stream",
          "text": [
            "Empty Tuple:  ()\n",
            "Tuple with a single item:  (1,)\n",
            "Sample Tuple : ('a', 'b', 'c', 'd', 1, 2, 3)\n"
          ],
          "name": "stdout"
        }
      ]
    },
    {
      "cell_type": "code",
      "metadata": {
        "id": "PlkNYbV3iwqo",
        "colab_type": "code",
        "outputId": "852be9a8-2a05-4d72-8221-114dbfb531cd",
        "colab": {
          "base_uri": "https://localhost:8080/",
          "height": 51
        }
      },
      "source": [
        "# Accessing items in tuple\n",
        "\n",
        "print (\"3rd item of Tuple:\", Tuple[2])\n",
        "print (\"First 3 items of Tuple\", Tuple[0:2])"
      ],
      "execution_count": 2,
      "outputs": [
        {
          "output_type": "stream",
          "text": [
            "3rd item of Tuple: c\n",
            "First 3 items of Tuple ('a', 'b')\n"
          ],
          "name": "stdout"
        }
      ]
    },
    {
      "cell_type": "code",
      "metadata": {
        "id": "jPaJSSQmiwqq",
        "colab_type": "code",
        "outputId": "ce0176ea-85bb-4b62-9e01-7684bac58bc9",
        "colab": {
          "base_uri": "https://localhost:8080/",
          "height": 214
        }
      },
      "source": [
        "# Deleting tuple\n",
        "\n",
        "Tuple = ('a','b','c','d',1,2,3)\n",
        "print (\"Sample Tuple: \",Tuple)\n",
        "del Tuple\n",
        "print (Tuple) # Will throw an error message as the tuple does not exist"
      ],
      "execution_count": 3,
      "outputs": [
        {
          "output_type": "stream",
          "text": [
            "Sample Tuple:  ('a', 'b', 'c', 'd', 1, 2, 3)\n"
          ],
          "name": "stdout"
        },
        {
          "output_type": "error",
          "ename": "NameError",
          "evalue": "ignored",
          "traceback": [
            "\u001b[0;31m---------------------------------------------------------------------------\u001b[0m",
            "\u001b[0;31mNameError\u001b[0m                                 Traceback (most recent call last)",
            "\u001b[0;32m<ipython-input-3-49cf7b16c1e5>\u001b[0m in \u001b[0;36m<module>\u001b[0;34m()\u001b[0m\n\u001b[1;32m      3\u001b[0m \u001b[0mprint\u001b[0m \u001b[0;34m(\u001b[0m\u001b[0;34m\"Sample Tuple: \"\u001b[0m\u001b[0;34m,\u001b[0m\u001b[0mTuple\u001b[0m\u001b[0;34m)\u001b[0m\u001b[0;34m\u001b[0m\u001b[0;34m\u001b[0m\u001b[0m\n\u001b[1;32m      4\u001b[0m \u001b[0;32mdel\u001b[0m \u001b[0mTuple\u001b[0m\u001b[0;34m\u001b[0m\u001b[0;34m\u001b[0m\u001b[0m\n\u001b[0;32m----> 5\u001b[0;31m \u001b[0mprint\u001b[0m \u001b[0;34m(\u001b[0m\u001b[0mTuple\u001b[0m\u001b[0;34m)\u001b[0m \u001b[0;31m# Will throw an error message as the tuple does not exist\u001b[0m\u001b[0;34m\u001b[0m\u001b[0;34m\u001b[0m\u001b[0m\n\u001b[0m",
            "\u001b[0;31mNameError\u001b[0m: name 'Tuple' is not defined"
          ]
        }
      ]
    },
    {
      "cell_type": "code",
      "metadata": {
        "id": "4hiaQ2tZiwqt",
        "colab_type": "code",
        "outputId": "aaae1856-4269-4f87-eda4-659fc76fba09",
        "colab": {
          "base_uri": "https://localhost:8080/",
          "height": 221
        }
      },
      "source": [
        "# Basic Tuple operations\n",
        "Tuple = ('a','b','c','d',1,2,3)\n",
        "\n",
        "print (\"Length of Tuple: \", len(Tuple))\n",
        "\n",
        "Tuple_Concat = Tuple + (7,8,9)\n",
        "print (\"Concatinated Tuple: \", Tuple_Concat)\n",
        "\n",
        "print (\"Repetition: \", (1, 'a',2, 'b') * 3)\n",
        "print (\"Membership check: \", 3 in (1,2,3))\n",
        "\n",
        "# Iteration\n",
        "for x in (1, 2, 3): print (x)\n",
        "\n",
        "print (\"Negative sign will retrieve item from right: \", Tuple_Concat[-2])\n",
        "print (\"Sliced Tuple [2:] \", Tuple_Concat[2:])\n",
        "\n",
        "# Find max\n",
        "print (\"Max of the Tuple (1,2,3,4,5,6,7,8,9,10): \", max((1,2,3,4,5,6,7,8,9,10)))\n",
        "print (\"Min of the Tuple (1,2,3,4,5,6,7,8,9,10): \", min((1,2,3,4,5,6,7,8,9,10)))\n",
        "print (\"List [1,2,3,4] converted to tuple: \", type(tuple([1,2,3,4])))"
      ],
      "execution_count": 4,
      "outputs": [
        {
          "output_type": "stream",
          "text": [
            "Length of Tuple:  7\n",
            "Concatinated Tuple:  ('a', 'b', 'c', 'd', 1, 2, 3, 7, 8, 9)\n",
            "Repetition:  (1, 'a', 2, 'b', 1, 'a', 2, 'b', 1, 'a', 2, 'b')\n",
            "Membership check:  True\n",
            "1\n",
            "2\n",
            "3\n",
            "Negative sign will retrieve item from right:  8\n",
            "Sliced Tuple [2:]  ('c', 'd', 1, 2, 3, 7, 8, 9)\n",
            "Max of the Tuple (1,2,3,4,5,6,7,8,9,10):  10\n",
            "Min of the Tuple (1,2,3,4,5,6,7,8,9,10):  1\n",
            "List [1,2,3,4] converted to tuple:  <class 'tuple'>\n"
          ],
          "name": "stdout"
        }
      ]
    }
  ]
}