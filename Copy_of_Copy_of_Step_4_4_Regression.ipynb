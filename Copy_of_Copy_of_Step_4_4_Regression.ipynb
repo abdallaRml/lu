{
  "nbformat": 4,
  "nbformat_minor": 0,
  "metadata": {
    "anaconda-cloud": {},
    "kernelspec": {
      "display_name": "Python 3",
      "language": "python",
      "name": "python3"
    },
    "language_info": {
      "codemirror_mode": {
        "name": "ipython",
        "version": 3
      },
      "file_extension": ".py",
      "mimetype": "text/x-python",
      "name": "python",
      "nbconvert_exporter": "python",
      "pygments_lexer": "ipython3",
      "version": "3.7.1"
    },
    "colab": {
      "name": "Copy of Copy of Step_4_4_Regression.ipynb",
      "provenance": [],
      "collapsed_sections": [],
      "toc_visible": true,
      "include_colab_link": true
    }
  },
  "cells": [
    {
      "cell_type": "markdown",
      "metadata": {
        "id": "view-in-github",
        "colab_type": "text"
      },
      "source": [
        "<a href=\"https://colab.research.google.com/github/abdallaRml/lu/blob/master/Copy_of_Copy_of_Step_4_4_Regression.ipynb\" target=\"_parent\"><img src=\"https://colab.research.google.com/assets/colab-badge.svg\" alt=\"Open In Colab\"/></a>"
      ]
    },
    {
      "cell_type": "markdown",
      "metadata": {
        "id": "KXjmiP7qKxyB",
        "colab_type": "text"
      },
      "source": [
        "### Regression\n",
        "\n",
        "The regression is one of the fundamental techniques that will help us to find the answer to these types of questions by studying the relationship between the different variables that are relevant to the questions that we are trying to answer. \n",
        "\n",
        "Let’s consider a use case where we have collected students average test grade scores and their respective average studied hours for the test for a group of similar IQ students.  "
      ]
    },
    {
      "cell_type": "code",
      "metadata": {
        "id": "Nnor20cKMUai",
        "colab_type": "code",
        "colab": {}
      },
      "source": [
        "# Code to read csv file into Colaboratory:\n",
        "!pip install -U -q PyDrive\n",
        "import os\n",
        "from pydrive.auth import GoogleAuth\n",
        "from pydrive.drive import GoogleDrive\n",
        "from google.colab import auth\n",
        "from oauth2client.client import GoogleCredentials\n",
        "# Authenticate and create the PyDrive client.\n",
        "auth.authenticate_user()\n",
        "gauth = GoogleAuth()\n",
        "gauth.credentials = GoogleCredentials.get_application_default()\n",
        "drive = GoogleDrive(gauth)"
      ],
      "execution_count": 0,
      "outputs": []
    },
    {
      "cell_type": "code",
      "metadata": {
        "id": "xtCmH2nFSxcr",
        "colab_type": "code",
        "outputId": "53245f97-6d8d-4c57-b81a-aa235a0fa954",
        "colab": {
          "base_uri": "https://localhost:8080/",
          "height": 275
        }
      },
      "source": [
        "!pip install PyDrive\n",
        "\n",
        "\n",
        "from pydrive.auth import GoogleAuth\n",
        "from pydrive.drive import GoogleDrive\n",
        "from google.colab import auth\n",
        "from oauth2client.client import GoogleCredentials\n",
        "import os\n",
        "\n",
        "class download_data_from_folder(object):\n",
        "    def __init__(self,path):\n",
        "        path_id = path[path.find('id=')+3:]\n",
        "        self.file_list = self.get_files_in_location(path_id)\n",
        "        self.unwrap_data(self.file_list)\n",
        "    def get_files_in_location(self,folder_id):\n",
        "        file_list = drive.ListFile({'q': \"'{}' in parents and trashed=false\".format(folder_id)}).GetList()\n",
        "        return file_list\n",
        "    def unwrap_data(self,file_list,directory='.'):\n",
        "        for i, file in enumerate(file_list):\n",
        "            print(str((i + 1) / len(file_list) * 100) + '% done copying')\n",
        "            if file['mimeType'].find('folder') != -1:\n",
        "                if not os.path.exists(os.path.join(directory, file['title'])):\n",
        "                    os.makedirs(os.path.join(directory, file['title']))\n",
        "                print('Copying folder ' + os.path.join(directory, file['title']))\n",
        "                self.unwrap_data(self.get_files_in_location(file['id']), os.path.join(directory, file['title']))\n",
        "            else:\n",
        "                if not os.path.exists(os.path.join(directory, file['title'])):\n",
        "                    downloaded = drive.CreateFile({'id': file['id']})\n",
        "                    downloaded.GetContentFile(os.path.join(directory, file['title']))\n",
        "        return None"
      ],
      "execution_count": 2,
      "outputs": [
        {
          "output_type": "stream",
          "text": [
            "Requirement already satisfied: PyDrive in /usr/local/lib/python3.6/dist-packages (1.3.1)\n",
            "Requirement already satisfied: PyYAML>=3.0 in /usr/local/lib/python3.6/dist-packages (from PyDrive) (3.13)\n",
            "Requirement already satisfied: google-api-python-client>=1.2 in /usr/local/lib/python3.6/dist-packages (from PyDrive) (1.7.12)\n",
            "Requirement already satisfied: oauth2client>=4.0.0 in /usr/local/lib/python3.6/dist-packages (from PyDrive) (4.1.3)\n",
            "Requirement already satisfied: google-auth>=1.4.1 in /usr/local/lib/python3.6/dist-packages (from google-api-python-client>=1.2->PyDrive) (1.7.2)\n",
            "Requirement already satisfied: six<2dev,>=1.6.1 in /usr/local/lib/python3.6/dist-packages (from google-api-python-client>=1.2->PyDrive) (1.12.0)\n",
            "Requirement already satisfied: httplib2<1dev,>=0.17.0 in /usr/local/lib/python3.6/dist-packages (from google-api-python-client>=1.2->PyDrive) (0.17.1)\n",
            "Requirement already satisfied: uritemplate<4dev,>=3.0.0 in /usr/local/lib/python3.6/dist-packages (from google-api-python-client>=1.2->PyDrive) (3.0.1)\n",
            "Requirement already satisfied: google-auth-httplib2>=0.0.3 in /usr/local/lib/python3.6/dist-packages (from google-api-python-client>=1.2->PyDrive) (0.0.3)\n",
            "Requirement already satisfied: pyasn1-modules>=0.0.5 in /usr/local/lib/python3.6/dist-packages (from oauth2client>=4.0.0->PyDrive) (0.2.8)\n",
            "Requirement already satisfied: pyasn1>=0.1.7 in /usr/local/lib/python3.6/dist-packages (from oauth2client>=4.0.0->PyDrive) (0.4.8)\n",
            "Requirement already satisfied: rsa>=3.1.4 in /usr/local/lib/python3.6/dist-packages (from oauth2client>=4.0.0->PyDrive) (4.0)\n",
            "Requirement already satisfied: cachetools<3.2,>=2.0.0 in /usr/local/lib/python3.6/dist-packages (from google-auth>=1.4.1->google-api-python-client>=1.2->PyDrive) (3.1.1)\n",
            "Requirement already satisfied: setuptools>=40.3.0 in /usr/local/lib/python3.6/dist-packages (from google-auth>=1.4.1->google-api-python-client>=1.2->PyDrive) (46.1.3)\n"
          ],
          "name": "stdout"
        }
      ]
    },
    {
      "cell_type": "code",
      "metadata": {
        "id": "JZ88wtYKTApA",
        "colab_type": "code",
        "outputId": "f7da03af-3b59-4ae4-8ea0-bb20d587018f",
        "colab": {
          "base_uri": "https://localhost:8080/",
          "height": 425
        }
      },
      "source": [
        "data_path = 'https://drive.google.com/open?id=13hFQ09ptYr-Ud5xOJ0Xx4cV0akc1RnZw'\n",
        "download_data_from_folder(data_path)"
      ],
      "execution_count": 3,
      "outputs": [
        {
          "output_type": "stream",
          "text": [
            "4.3478260869565215% done copying\n",
            "8.695652173913043% done copying\n",
            "13.043478260869565% done copying\n",
            "17.391304347826086% done copying\n",
            "21.73913043478261% done copying\n",
            "26.08695652173913% done copying\n",
            "30.434782608695656% done copying\n",
            "34.78260869565217% done copying\n",
            "39.130434782608695% done copying\n",
            "43.47826086956522% done copying\n",
            "47.82608695652174% done copying\n",
            "52.17391304347826% done copying\n",
            "56.52173913043478% done copying\n",
            "60.86956521739131% done copying\n",
            "65.21739130434783% done copying\n",
            "69.56521739130434% done copying\n",
            "73.91304347826086% done copying\n",
            "78.26086956521739% done copying\n",
            "82.6086956521739% done copying\n",
            "86.95652173913044% done copying\n",
            "91.30434782608695% done copying\n",
            "95.65217391304348% done copying\n",
            "100.0% done copying\n"
          ],
          "name": "stdout"
        },
        {
          "output_type": "execute_result",
          "data": {
            "text/plain": [
              "<__main__.download_data_from_folder at 0x7f4177687780>"
            ]
          },
          "metadata": {
            "tags": []
          },
          "execution_count": 3
        }
      ]
    },
    {
      "cell_type": "code",
      "metadata": {
        "id": "ioKx4j9cKxyE",
        "colab_type": "code",
        "colab": {}
      },
      "source": [
        "import pandas as pd\n",
        "import numpy as np\n",
        "import matplotlib.pyplot as plt\n",
        "import scipy.stats as stats\n",
        "\n",
        "# importing linear regression function\n",
        "import sklearn.linear_model as lm\n",
        "\n",
        "# function to calculate r-squared, MAE, RMSE\n",
        "from sklearn.metrics import r2_score , mean_absolute_error, mean_squared_error\n",
        "\n",
        "%matplotlib inline"
      ],
      "execution_count": 0,
      "outputs": []
    },
    {
      "cell_type": "markdown",
      "metadata": {
        "id": "JmW_622QKxyO",
        "colab_type": "text"
      },
      "source": [
        "### Let's plot grades obtained vs hours studied "
      ]
    },
    {
      "cell_type": "code",
      "metadata": {
        "id": "DCM4qf-vKxyT",
        "colab_type": "code",
        "outputId": "4d2daff0-fcbb-4d1c-88b7-a1abb06a34c2",
        "colab": {
          "base_uri": "https://localhost:8080/",
          "height": 782
        }
      },
      "source": [
        "# Load data\n",
        "df = pd.read_csv('Grade_Set_1.csv')\n",
        "print(df)\n",
        "\n",
        "# Simple scatter plot\n",
        "df.plot(kind='scatter', x='Hours_Studied', y='Test_Grade', title='Grade vs Hours Studied')\n",
        "plt.show()\n",
        "# check the correlation between variables\n",
        "print(\"Correlation Matrix: \")\n",
        "print(df.corr())\n",
        "\n",
        "# Lets plot the distribution\n",
        "fit = stats.norm.pdf(df.Test_Grade, np.mean(df.Test_Grade), np.std(df.Test_Grade))  \n",
        "plt.plot(df.Test_Grade,fit,'-o')\n",
        "plt.hist(df.Test_Grade,density=True)     \n",
        "plt.show() "
      ],
      "execution_count": 5,
      "outputs": [
        {
          "output_type": "stream",
          "text": [
            "   Hours_Studied  Test_Grade\n",
            "0              2          57\n",
            "1              3          66\n",
            "2              4          73\n",
            "3              5          76\n",
            "4              6          79\n",
            "5              7          81\n",
            "6              8          90\n",
            "7              9          96\n",
            "8             10         100\n"
          ],
          "name": "stdout"
        },
        {
          "output_type": "display_data",
          "data": {
            "image/png": "[encoded data removed]",
            "text/plain": [
              "<Figure size 432x288 with 1 Axes>"
            ]
          },
          "metadata": {
            "tags": [],
            "needs_background": "light"
          }
        },
        {
          "output_type": "stream",
          "text": [
            "Correlation Matrix: \n",
            "               Hours_Studied  Test_Grade\n",
            "Hours_Studied       1.000000    0.987797\n",
            "Test_Grade          0.987797    1.000000\n"
          ],
          "name": "stdout"
        },
        {
          "output_type": "display_data",
          "data": {
            "image/png": "[encoded data removed]",
            "text/plain": [
              "<Figure size 432x288 with 1 Axes>"
            ]
          },
          "metadata": {
            "tags": [],
            "needs_background": "light"
          }
        }
      ]
    },
    {
      "cell_type": "code",
      "metadata": {
        "id": "FBwK2P7gKxym",
        "colab_type": "code",
        "outputId": "88256ceb-09e8-4e73-9b3d-aba3a0709791",
        "colab": {
          "base_uri": "https://localhost:8080/",
          "height": 381
        }
      },
      "source": [
        "# Create linear regression object\n",
        "lr = lm.LinearRegression()\n",
        "\n",
        "x= df.Hours_Studied[:, np.newaxis] # independent variable\n",
        "y= df.Test_Grade.values            # dependent variable \n",
        "\n",
        "# Train the model using the training sets\n",
        "lr.fit(x, y)\n",
        "print(\"Intercept: \", lr.intercept_)\n",
        "print(\"Coefficient: \", lr.coef_)\n",
        "\n",
        "# manual prediction for a given value of x\n",
        "print(\"Manual prediction :\", 49.67777777777776 + 5.01666667*6)\n",
        "\n",
        "# predict using the built-in function\n",
        "print(\"Using predict function: \", lr.predict([[6]]))\n",
        "\n",
        "# plotting fitted line\n",
        "plt.scatter(x, y,  color='black')\n",
        "plt.plot(x, lr.predict(x), color='blue', linewidth=3)\n",
        "plt.title('Grade vs Hours Studied')\n",
        "plt.ylabel('Test_Grade')\n",
        "plt.xlabel('Hours_Studied')"
      ],
      "execution_count": 6,
      "outputs": [
        {
          "output_type": "stream",
          "text": [
            "Intercept:  49.67777777777776\n",
            "Coefficient:  [5.01666667]\n",
            "Manual prediction : 79.77777779777776\n",
            "Using predict function:  [79.77777778]\n"
          ],
          "name": "stdout"
        },
        {
          "output_type": "execute_result",
          "data": {
            "text/plain": [
              "Text(0.5, 0, 'Hours_Studied')"
            ]
          },
          "metadata": {
            "tags": []
          },
          "execution_count": 6
        },
        {
          "output_type": "display_data",
          "data": {
            "image/png": "[encoded data removed]",
            "text/plain": [
              "<Figure size 432x288 with 1 Axes>"
            ]
          },
          "metadata": {
            "tags": [],
            "needs_background": "light"
          }
        }
      ]
    },
    {
      "cell_type": "code",
      "metadata": {
        "id": "Pw38_zHSKxyv",
        "colab_type": "code",
        "outputId": "3d4d7238-d1c9-42b6-87ea-18c8963bfc6e",
        "colab": {
          "base_uri": "https://localhost:8080/",
          "height": 289
        }
      },
      "source": [
        "# Let's check the performance of fitted model through R-squared\n",
        "\n",
        "# add predict value to the data frame\n",
        "df['Test_Grade_Pred'] = lr.predict(x)\n",
        "\n",
        "# Manually calculating R Squared\n",
        "df['SST'] = np.square(df['Test_Grade'] - df['Test_Grade'].mean())\n",
        "df['SSR'] = np.square(df['Test_Grade_Pred'] - df['Test_Grade'].mean())\n",
        "\n",
        "print(\"Sum of SSR:\", df['SSR'].sum())\n",
        "print(\"Sum of SST:\", df['SST'].sum())\n",
        "\n",
        "print(df)\n",
        "df.to_csv('r-squared.csv', index=False)\n",
        "\n",
        "print(\"R Squared using manual calculation: \", df['SSR'].sum() / df['SST'].sum())\n",
        "\n",
        "# Using built-in function\n",
        "print(\"R Squared using built-in function: \", r2_score(df.Test_Grade,  df.Test_Grade_Pred))\n",
        "print(\"Mean Absolute Error: \", mean_absolute_error(df.Test_Grade, df.Test_Grade_Pred))\n",
        "print(\"Root Mean Squared Error: \", np.sqrt(mean_squared_error(df.Test_Grade, df.Test_Grade_Pred)))"
      ],
      "execution_count": 7,
      "outputs": [
        {
          "output_type": "stream",
          "text": [
            "Sum of SSR: 1510.0166666666673\n",
            "Sum of SST: 1547.5555555555557\n",
            "   Hours_Studied  Test_Grade  Test_Grade_Pred         SST         SSR\n",
            "0              2          57        59.711111  518.827160  402.671111\n",
            "1              3          66        64.727778  189.827160  226.502500\n",
            "2              4          73        69.744444   45.938272  100.667778\n",
            "3              5          76        74.761111   14.271605   25.166944\n",
            "4              6          79        79.777778    0.604938    0.000000\n",
            "5              7          81        84.794444    1.493827   25.166944\n",
            "6              8          90        89.811111  104.493827  100.667778\n",
            "7              9          96        94.827778  263.160494  226.502500\n",
            "8             10         100        99.844444  408.938272  402.671111\n",
            "R Squared using manual calculation:  0.9757431074095351\n",
            "R Squared using built-in function:  0.9757431074095347\n",
            "Mean Absolute Error:  1.618518518518523\n",
            "Root Mean Squared Error:  2.0422995995497297\n"
          ],
          "name": "stdout"
        }
      ]
    },
    {
      "cell_type": "markdown",
      "metadata": {
        "id": "qzDf3zJ-Kxy3",
        "colab_type": "text"
      },
      "source": [
        "### Outliers\n",
        "\n",
        "Lets introduce a outlier i.e., a student has studied 5 hours and scored 100. Assume that this student is has higher IQ than others in this group. Notice the drop in R-squared value. So it is important to apply business logic to avoid including outliers in the training data set to generalize the model and increase accuracy"
      ]
    },
    {
      "cell_type": "code",
      "metadata": {
        "id": "_qgOi6OaKxy5",
        "colab_type": "code",
        "outputId": "3d858df4-18de-4768-ff2c-158a430ae7f0",
        "colab": {
          "base_uri": "https://localhost:8080/",
          "height": 415
        }
      },
      "source": [
        "# Load data\n",
        "df = pd.read_csv('Grade_Set_1.csv')\n",
        "\n",
        "df.loc[9] = np.array([5, 100])\n",
        "\n",
        "x= df.Hours_Studied[:, np.newaxis] # independent variable\n",
        "y= df.Test_Grade.values            # dependent variable \n",
        "\n",
        "# Train the model using the training sets\n",
        "lr.fit(x, y)\n",
        "print(\"Intercept: \", lr.intercept_)\n",
        "print(\"Coefficient: \", lr.coef_)\n",
        "\n",
        "# manual prediction for a given value of x\n",
        "print(\"Manual prediction :\", 54.4022988505747 + 4.64367816*6)\n",
        "\n",
        "# predict using the built-in function\n",
        "print(\"Using predict function: \", lr.predict([[6]]))\n",
        "\n",
        "# plotting fitted line\n",
        "plt.scatter(x, y,  color='black')\n",
        "plt.plot(x, lr.predict(x), color='blue', linewidth=3)\n",
        "plt.title('Grade vs Hours Studied')\n",
        "plt.ylabel('Test_Grade')\n",
        "plt.xlabel('Hours_Studied')\n",
        "\n",
        "# add predict value to the data frame\n",
        "df['Test_Grade_Pred'] = lr.predict(x)\n",
        "\n",
        "# Using built-in function\n",
        "print(\"R Squared : \", r2_score(df.Test_Grade,  df.Test_Grade_Pred))\n",
        "print(\"Mean Absolute Error: \", mean_absolute_error(df.Test_Grade, df.Test_Grade_Pred))\n",
        "print(\"Root Mean Squared Error: \", np.sqrt(mean_squared_error(df.Test_Grade, df.Test_Grade_Pred)))"
      ],
      "execution_count": 8,
      "outputs": [
        {
          "output_type": "stream",
          "text": [
            "Intercept:  54.40229885057471\n",
            "Coefficient:  [4.64367816]\n",
            "Manual prediction : 82.2643678105747\n",
            "Using predict function:  [82.26436782]\n",
            "R Squared :  0.6855461390206965\n",
            "Mean Absolute Error:  4.4804597701149405\n",
            "Root Mean Squared Error:  7.761235830020589\n"
          ],
          "name": "stdout"
        },
        {
          "output_type": "display_data",
          "data": {
            "image/png": "[encoded data removed]",
            "text/plain": [
              "<Figure size 432x288 with 1 Axes>"
            ]
          },
          "metadata": {
            "tags": [],
            "needs_background": "light"
          }
        }
      ]
    },
    {
      "cell_type": "markdown",
      "metadata": {
        "id": "aerPtOJFKxy_",
        "colab_type": "text"
      },
      "source": [
        "# Polynomial\n",
        "\n",
        "It is a form higher order linear regression modeled between dependent and independent variables as an nth degree polynomial."
      ]
    },
    {
      "cell_type": "code",
      "metadata": {
        "id": "FJozR6mHKxzA",
        "colab_type": "code",
        "outputId": "1aed6630-3e5c-4ccf-9fc7-b48150aa9f29",
        "colab": {
          "base_uri": "https://localhost:8080/",
          "height": 297
        }
      },
      "source": [
        "x = np.linspace(-3,3,1000)\n",
        "\n",
        "# Plot subplots\n",
        "fig, ((ax1, ax2, ax3), (ax4, ax5, ax6)) = plt.subplots(nrows=2, ncols=3)\n",
        "\n",
        "ax1.plot(x, x)\n",
        "ax1.set_title('linear')\n",
        "ax2.plot(x, x**2)\n",
        "ax2.set_title('degree 2')\n",
        "ax3.plot(x, x**3)\n",
        "ax3.set_title('degree 3')\n",
        "ax4.plot(x, x**4)\n",
        "ax4.set_title('degree 4')\n",
        "ax5.plot(x, x**5)\n",
        "ax5.set_title('degree 5')\n",
        "ax6.plot(x, x**6)\n",
        "ax6.set_title('degree 6')\n",
        "\n",
        "# tidy layout\n",
        "plt.tight_layout()"
      ],
      "execution_count": 9,
      "outputs": [
        {
          "output_type": "display_data",
          "data": {
            "image/png": "[encoded data removed]",
            "text/plain": [
              "<Figure size 432x288 with 6 Axes>"
            ]
          },
          "metadata": {
            "tags": [],
            "needs_background": "light"
          }
        }
      ]
    },
    {
      "cell_type": "markdown",
      "metadata": {
        "id": "QVJ085MkKxzM",
        "colab_type": "text"
      },
      "source": [
        "Let’s consider another set of students average test grade scores and their respective average studied hours for similar IQ students."
      ]
    },
    {
      "cell_type": "code",
      "metadata": {
        "id": "IG7L0vlsKxzN",
        "colab_type": "code",
        "outputId": "0d1f8b88-6104-4b86-d05b-7f0d0e72afeb",
        "colab": {
          "base_uri": "https://localhost:8080/",
          "height": 645
        }
      },
      "source": [
        "# Load data\n",
        "df = pd.read_csv('Grade_Set_2.csv')\n",
        "print(df)\n",
        "\n",
        "# Simple scatter plot\n",
        "df.plot(kind='scatter', x='Hours_Studied', y='Test_Grade', title='Grade vs Hours Studied')\n",
        "\n",
        "# check the correlation between variables\n",
        "print(\"Correlation Matrix: \")\n",
        "df.corr()"
      ],
      "execution_count": 10,
      "outputs": [
        {
          "output_type": "stream",
          "text": [
            "    Hours_Studied  Test_Grade\n",
            "0             0.5          20\n",
            "1             1.0          21\n",
            "2             2.0          22\n",
            "3             3.0          23\n",
            "4             4.0          25\n",
            "5             5.0          37\n",
            "6             6.0          48\n",
            "7             7.0          56\n",
            "8             8.0          67\n",
            "9             9.0          76\n",
            "10           10.0          90\n",
            "11           11.0          89\n",
            "12           12.0          90\n",
            "Correlation Matrix: \n"
          ],
          "name": "stdout"
        },
        {
          "output_type": "execute_result",
          "data": {
            "text/html": [
              "<div>\n",
              "<style scoped>\n",
              "    .dataframe tbody tr th:only-of-type {\n",
              "        vertical-align: middle;\n",
              "    }\n",
              "\n",
              "    .dataframe tbody tr th {\n",
              "        vertical-align: top;\n",
              "    }\n",
              "\n",
              "    .dataframe thead th {\n",
              "        text-align: right;\n",
              "    }\n",
              "</style>\n",
              "<table border=\"1\" class=\"dataframe\">\n",
              "  <thead>\n",
              "    <tr style=\"text-align: right;\">\n",
              "      <th></th>\n",
              "      <th>Hours_Studied</th>\n",
              "      <th>Test_Grade</th>\n",
              "    </tr>\n",
              "  </thead>\n",
              "  <tbody>\n",
              "    <tr>\n",
              "      <th>Hours_Studied</th>\n",
              "      <td>1.000000</td>\n",
              "      <td>0.974868</td>\n",
              "    </tr>\n",
              "    <tr>\n",
              "      <th>Test_Grade</th>\n",
              "      <td>0.974868</td>\n",
              "      <td>1.000000</td>\n",
              "    </tr>\n",
              "  </tbody>\n",
              "</table>\n",
              "</div>"
            ],
            "text/plain": [
              "               Hours_Studied  Test_Grade\n",
              "Hours_Studied       1.000000    0.974868\n",
              "Test_Grade          0.974868    1.000000"
            ]
          },
          "metadata": {
            "tags": []
          },
          "execution_count": 10
        },
        {
          "output_type": "display_data",
          "data": {
            "image/png": "[encoded data removed]",
            "text/plain": [
              "<Figure size 432x288 with 1 Axes>"
            ]
          },
          "metadata": {
            "tags": [],
            "needs_background": "light"
          }
        }
      ]
    },
    {
      "cell_type": "code",
      "metadata": {
        "id": "hm8qEdIIKxzh",
        "colab_type": "code",
        "outputId": "452556ba-6da7-4daf-e9ec-b8cd25b31ee3",
        "colab": {
          "base_uri": "https://localhost:8080/",
          "height": 381
        }
      },
      "source": [
        "# Create linear regression object\n",
        "lr = lm.LinearRegression()\n",
        "\n",
        "x= df.Hours_Studied[:, np.newaxis]           # independent variable\n",
        "y= df.Test_Grade                             # dependent variable \n",
        "\n",
        "# Train the model using the training sets\n",
        "lr.fit(x, y)\n",
        "print(\"Intercept: \", lr.intercept_)\n",
        "print(\"Coefficient: \", lr.coef_)\n",
        "\n",
        "# manual prediction for a given value of x\n",
        "print(\"Manual prdiction :\", 7.27106067219556 + 7.25447403*6)\n",
        "\n",
        "# predict using the built-in function\n",
        "print(\"Using predict function: \", lr.predict([[6]]))\n",
        "\n",
        "# plotting fitted line\n",
        "plt.scatter(x, y,  color='black')\n",
        "plt.plot(x, lr.predict(x), color='blue', linewidth=3)\n",
        "plt.title('Grade vs Hours Studied')\n",
        "plt.ylabel('Test_Grade')\n",
        "plt.xlabel('Hours_Studied')\n",
        "\n",
        "print(\"R Squared: \", r2_score(y, lr.predict(x)))"
      ],
      "execution_count": 11,
      "outputs": [
        {
          "output_type": "stream",
          "text": [
            "Intercept:  7.27106067219556\n",
            "Coefficient:  [7.25447403]\n",
            "Manual prdiction : 50.79790485219556\n",
            "Using predict function:  [50.79790485]\n",
            "R Squared:  0.9503677766997879\n"
          ],
          "name": "stdout"
        },
        {
          "output_type": "display_data",
          "data": {
            "image/png": "[encoded data removed]",
            "text/plain": [
              "<Figure size 432x288 with 1 Axes>"
            ]
          },
          "metadata": {
            "tags": [],
            "needs_background": "light"
          }
        }
      ]
    },
    {
      "cell_type": "markdown",
      "metadata": {
        "id": "C50s2LbNKxzu",
        "colab_type": "text"
      },
      "source": [
        "NumPy's vander function will return powers of the input vector"
      ]
    },
    {
      "cell_type": "code",
      "metadata": {
        "id": "FdMFAqvDKxzw",
        "colab_type": "code",
        "outputId": "e75e0078-3878-44d8-97fe-4bdc4170d186",
        "colab": {
          "base_uri": "https://localhost:8080/",
          "height": 367
        }
      },
      "source": [
        "lr = lm.LinearRegression()\n",
        "\n",
        "x= df.Hours_Studied        # independent variable\n",
        "y= df.Test_Grade           # dependent variable \n",
        "\n",
        "# NumPy's vander function will return powers of the input vector\n",
        "for deg in [1, 2, 3, 4, 5]:\n",
        "    lr.fit(np.vander(x, deg + 1), y);\n",
        "    y_lr = lr.predict(np.vander(x, deg + 1))\n",
        "    plt.plot(x, y_lr, label='degree ' + str(deg));\n",
        "    plt.legend(loc=2);\n",
        "    print(\"R-squared for degree \" + str(deg) + \" = \",  r2_score(y, y_lr))\n",
        "plt.plot(x, y, 'ok')"
      ],
      "execution_count": 12,
      "outputs": [
        {
          "output_type": "stream",
          "text": [
            "R-squared for degree 1 =  0.9503677766997879\n",
            "R-squared for degree 2 =  0.9608726568678714\n",
            "R-squared for degree 3 =  0.9938323120374665\n",
            "R-squared for degree 4 =  0.9955000184096712\n",
            "R-squared for degree 5 =  0.9956204913897357\n"
          ],
          "name": "stdout"
        },
        {
          "output_type": "execute_result",
          "data": {
            "text/plain": [
              "[<matplotlib.lines.Line2D at 0x7f4165335780>]"
            ]
          },
          "metadata": {
            "tags": []
          },
          "execution_count": 12
        },
        {
          "output_type": "display_data",
          "data": {
            "image/png": "[encoded data removed]",
            "text/plain": [
              "<Figure size 432x288 with 1 Axes>"
            ]
          },
          "metadata": {
            "tags": [],
            "needs_background": "light"
          }
        }
      ]
    },
    {
      "cell_type": "markdown",
      "metadata": {
        "id": "a5yCZ8XAKxz5",
        "colab_type": "text"
      },
      "source": [
        "sklearn provides a function to generate a new feature matrix consisting of all polynomial combinations of the features with degree less than or equal to the specified degree"
      ]
    },
    {
      "cell_type": "code",
      "metadata": {
        "id": "bvv9Siz8Kxz_",
        "colab_type": "code",
        "outputId": "2540a611-af03-413d-96ab-37013794ac86",
        "colab": {
          "base_uri": "https://localhost:8080/",
          "height": 313
        }
      },
      "source": [
        "from sklearn.preprocessing import PolynomialFeatures\n",
        "from sklearn.pipeline import make_pipeline\n",
        "\n",
        "x= df.Hours_Studied[:, np.newaxis] # independent variable\n",
        "y= df.Test_Grade                   # dependent variable \n",
        "\n",
        "degree = 3\n",
        "model = make_pipeline(PolynomialFeatures(degree), lr)\n",
        "\n",
        "\n",
        "model.fit(x, y)\n",
        "\n",
        "plt.scatter(x, y,  color='black')\n",
        "plt.plot(x, model.predict(x), color='green')\n",
        "plt.title('Grade vs Hours Studied')\n",
        "plt.ylabel('Test_Grade')\n",
        "plt.xlabel('Hours_Studied')\n",
        "\n",
        "print(\"R Squared using built-in function: \", r2_score(y, model.predict(x)))"
      ],
      "execution_count": 13,
      "outputs": [
        {
          "output_type": "stream",
          "text": [
            "R Squared using built-in function:  0.9938323120374665\n"
          ],
          "name": "stdout"
        },
        {
          "output_type": "display_data",
          "data": {
            "image/png": "[encoded data removed]",
            "text/plain": [
              "<Figure size 432x288 with 1 Axes>"
            ]
          },
          "metadata": {
            "tags": [],
            "needs_background": "light"
          }
        }
      ]
    }
  ]
}