{
  "nbformat": 4,
  "nbformat_minor": 0,
  "metadata": {
    "anaconda-cloud": {},
    "kernelspec": {
      "display_name": "Python 3",
      "language": "python",
      "name": "python3"
    },
    "language_info": {
      "codemirror_mode": {
        "name": "ipython",
        "version": 3
      },
      "file_extension": ".py",
      "mimetype": "text/x-python",
      "name": "python",
      "nbconvert_exporter": "python",
      "pygments_lexer": "ipython3",
      "version": "3.7.1"
    },
    "colab": {
      "name": "Copy of Copy of Step_4_2_Normalization.ipynb",
      "provenance": [],
      "collapsed_sections": [],
      "include_colab_link": true
    }
  },
  "cells": [
    {
      "cell_type": "markdown",
      "metadata": {
        "id": "view-in-github",
        "colab_type": "text"
      },
      "source": [
        "<a href=\"https://colab.research.google.com/github/abdallaRml/lu/blob/master/Copy_of_Copy_of_Step_4_2_Normalization.ipynb\" target=\"_parent\"><img src=\"https://colab.research.google.com/assets/colab-badge.svg\" alt=\"Open In Colab\"/></a>"
      ]
    },
    {
      "cell_type": "markdown",
      "metadata": {
        "id": "d8La0TML-XPm",
        "colab_type": "text"
      },
      "source": [
        "### Normalization and Standardization\n",
        "\n",
        "Unit or scale of measurement for different variables varies, so an analysis with the raw measurement could be artificially skewed towards the variables with higher absolute values. Bringing all the different types of variable units in the same order of magnitude, and thus eliminate the potential outlier measurements that would misrepresent the finding and negatively affect the accuracy of the conclusion. Two broadly used methods for rescaling data are normalization and standardization.\n",
        "Normalizing data can be achieved by Min-Max scaling, the formula is given below which will scale all numeric values in the range 0 to 1. \n",
        "X_normalized = ((X – X_min))/((X_max  –  X_min))\n",
        "\n",
        "Note: Ensure to remove extreme outliers before applying the above technique as it can skew the normal values in your data to a small interval.\n",
        "Standardization technique will transform the variables to have zero mean and standard deviation of one. The formula for standardization is given below and the outcome is commonly known as z-scores.\n",
        "Z = ((X - µ))/σ\n",
        "Where µ is the mean and σ is the standard deviation.\n",
        "\n",
        "Standardization has been often the preferred method for various analysis as it tells us where each data point lies within its distribution and a rough indication of outliers."
      ]
    },
    {
      "cell_type": "code",
      "metadata": {
        "id": "J2WHgSyn-XPo",
        "colab_type": "code",
        "outputId": "aac5e09a-8a73-4b5e-cd55-a332b93d874c",
        "colab": {
          "base_uri": "https://localhost:8080/",
          "height": 170
        }
      },
      "source": [
        "from sklearn import datasets\n",
        "import numpy as np\n",
        "from sklearn import preprocessing\n",
        "\n",
        "iris = datasets.load_iris()\n",
        "X = iris.data[:, [2, 3]]\n",
        "y = iris.target\n",
        "\n",
        "std_scale = preprocessing.StandardScaler().fit(X)\n",
        "X_std = std_scale.transform(X)\n",
        "\n",
        "minmax_scale = preprocessing.MinMaxScaler().fit(X)\n",
        "X_minmax = minmax_scale.transform(X)\n",
        "\n",
        "print('Mean before standardization: petal length={:.1f}, petal width={:.1f}'\n",
        "      .format(X[:,0].mean(), X[:,1].mean()))\n",
        "print('SD before standardization: petal length={:.1f}, petal width={:.1f}'\n",
        "      .format(X[:,0].std(), X[:,1].std()))\n",
        "\n",
        "print('Mean after standardization: petal length={:.1f}, petal width={:.1f}'\n",
        "      .format(X_std[:,0].mean(), X_std[:,1].mean()))\n",
        "print('SD after standardization: petal length={:.1f}, petal width={:.1f}'\n",
        "      .format(X_std[:,0].std(), X_std[:,1].std()))\n",
        "\n",
        "print('\\nMin value before min-max scaling: patel length={:.1f}, patel width={:.1f}'\n",
        "      .format(X[:,0].min(), X[:,1].min()))\n",
        "print('Max value before min-max scaling: petal length={:.1f}, petal width={:.1f}'\n",
        "      .format(X[:,0].max(), X[:,1].max()))\n",
        "\n",
        "print('Min value after min-max scaling: patel length={:.1f}, patel width={:.1f}'\n",
        "      .format(X_minmax[:,0].min(), X_minmax[:,1].min()))\n",
        "print('Max value after min-max scaling: petal length={:.1f}, petal width={:.1f}'\n",
        "      .format(X_minmax[:,0].max(), X_minmax[:,1].max()))"
      ],
      "execution_count": 1,
      "outputs": [
        {
          "output_type": "stream",
          "text": [
            "Mean before standardization: petal length=3.8, petal width=1.2\n",
            "SD before standardization: petal length=1.8, petal width=0.8\n",
            "Mean after standardization: petal length=-0.0, petal width=-0.0\n",
            "SD after standardization: petal length=1.0, petal width=1.0\n",
            "\n",
            "Min value before min-max scaling: patel length=1.0, patel width=0.1\n",
            "Max value before min-max scaling: petal length=6.9, petal width=2.5\n",
            "Min value after min-max scaling: patel length=0.0, patel width=0.0\n",
            "Max value after min-max scaling: petal length=1.0, petal width=1.0\n"
          ],
          "name": "stdout"
        }
      ]
    }
  ]
}