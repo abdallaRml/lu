{
  "nbformat": 4,
  "nbformat_minor": 0,
  "metadata": {
    "anaconda-cloud": {},
    "kernelspec": {
      "display_name": "Python 3",
      "language": "python",
      "name": "python3"
    },
    "language_info": {
      "codemirror_mode": {
        "name": "ipython",
        "version": 3
      },
      "file_extension": ".py",
      "mimetype": "text/x-python",
      "name": "python",
      "nbconvert_exporter": "python",
      "pygments_lexer": "ipython3",
      "version": "3.7.1"
    },
    "colab": {
      "name": "Copy of Step_1_8_NumPy.ipynb",
      "provenance": [],
      "include_colab_link": true
    }
  },
  "cells": [
    {
      "cell_type": "markdown",
      "metadata": {
        "id": "view-in-github",
        "colab_type": "text"
      },
      "source": [
        "<a href=\"https://colab.research.google.com/github/abdallaRml/lu/blob/master/Copy_of_Step_1_8_NumPy.ipynb\" target=\"_parent\"><img src=\"https://colab.research.google.com/assets/colab-badge.svg\" alt=\"Open In Colab\"/></a>"
      ]
    },
    {
      "cell_type": "markdown",
      "metadata": {
        "nbpresent": {
          "id": "c7dd824e-ef76-47f3-91a6-1197ae225b4b"
        },
        "id": "K7e0qNoojvcu",
        "colab_type": "text"
      },
      "source": [
        "# Numpy"
      ]
    },
    {
      "cell_type": "markdown",
      "metadata": {
        "nbpresent": {
          "id": "ea0fa08f-ea8f-469c-950e-24d5a158d678"
        },
        "id": "QJX2mmE8jvcw",
        "colab_type": "text"
      },
      "source": [
        "Numpy is the core library for scientific computing in Python. It provides a high-performance multidimensional array object and tools for working with these arrays. It's a successor of Numeric package. In 2005, Travis Oliphant created NumPy by incorporating features of the competing Numarray into Numeric, with extensive modifications. I think the concepts and the code examples to a great extent have been explained in the simplest form in his book \"Guide to Numpy\". Here we'll only be looking at some of the key Numpy concepts that are must or good to know in relevance to machine learning.\n",
        "\n",
        "We will cover:\n",
        "\n",
        "* Arrays\n",
        "* Array indexing\n",
        "* Datatypes\n",
        "* Array math\n",
        "* Broadcasting\n",
        "\n",
        "Note: For brevity we'll only look at important concepts, if you want to know more you should read the documentation"
      ]
    },
    {
      "cell_type": "markdown",
      "metadata": {
        "nbpresent": {
          "id": "3a5fa455-20ab-433e-a1a3-40db3da5381a"
        },
        "id": "AsDh9FPcjvcx",
        "colab_type": "text"
      },
      "source": [
        "To use Numpy, we first need to import the `numpy` package:"
      ]
    },
    {
      "cell_type": "code",
      "metadata": {
        "nbpresent": {
          "id": "15e53c86-93a3-43a8-9958-cd1c49b7b497"
        },
        "id": "PJMelJkwjvcx",
        "colab_type": "code",
        "colab": {}
      },
      "source": [
        "import numpy as np"
      ],
      "execution_count": 0,
      "outputs": []
    },
    {
      "cell_type": "markdown",
      "metadata": {
        "nbpresent": {
          "id": "4d54e98d-3aa6-4327-8799-3a8bebf9f206"
        },
        "id": "zJUa8Bc9jvc1",
        "colab_type": "text"
      },
      "source": [
        "### Arrays"
      ]
    },
    {
      "cell_type": "markdown",
      "metadata": {
        "nbpresent": {
          "id": "b069f6e3-c44a-4e85-a348-96f2bb54482b"
        },
        "id": "kp9HtxS7jvc2",
        "colab_type": "text"
      },
      "source": [
        "A numpy array is a collection of similar data type values, and is indexed by a tuple of nonnegative numbers. The rank of the array is the number of dimensions, and the shape of an array is a tuple of numbers giving the size of the array along each dimension.\n",
        "We can initialize numpy arrays from nested Python lists, and access elements using square brackets:"
      ]
    },
    {
      "cell_type": "code",
      "metadata": {
        "nbpresent": {
          "id": "6891c332-162e-4ff5-94de-b07fd89a43da"
        },
        "id": "FWiBEzdPjvc2",
        "colab_type": "code",
        "outputId": "0c5508a7-5ab8-4b24-d855-1f9bdc3f4047",
        "colab": {
          "base_uri": "https://localhost:8080/",
          "height": 119
        }
      },
      "source": [
        "# Create a rank 1 array\n",
        "a = np.array([0, 1, 2]) \n",
        "print (type(a))\n",
        "\n",
        "# this will print (the dimension of the array\n",
        "print (a.shape) \n",
        "print (a[0])\n",
        "print (a[1])\n",
        "print (a[2])\n",
        "\n",
        "# Change an element of the array\n",
        "a[0] = 5                 \n",
        "print (a)                  "
      ],
      "execution_count": 2,
      "outputs": [
        {
          "output_type": "stream",
          "text": [
            "<class 'numpy.ndarray'>\n",
            "(3,)\n",
            "0\n",
            "1\n",
            "2\n",
            "[5 1 2]\n"
          ],
          "name": "stdout"
        }
      ]
    },
    {
      "cell_type": "code",
      "metadata": {
        "nbpresent": {
          "id": "3c405c6c-89bb-4fe3-af31-79302a103549"
        },
        "id": "WPHiwlnhjvc6",
        "colab_type": "code",
        "outputId": "5749972a-4df9-4624-8bab-7a42fc0e6c63",
        "colab": {
          "base_uri": "https://localhost:8080/",
          "height": 85
        }
      },
      "source": [
        "# Create a rank 2 array\n",
        "b = np.array([[0,1,2],[3,4,5]])  \n",
        "print (b.shape)                     \n",
        "print (b)\n",
        "print (b[0, 0], b[0, 1], b[1, 0])   "
      ],
      "execution_count": 3,
      "outputs": [
        {
          "output_type": "stream",
          "text": [
            "(2, 3)\n",
            "[[0 1 2]\n",
            " [3 4 5]]\n",
            "0 1 3\n"
          ],
          "name": "stdout"
        }
      ]
    },
    {
      "cell_type": "code",
      "metadata": {
        "nbpresent": {
          "id": "7df855d7-8be7-4802-9106-a4853cd147be"
        },
        "id": "E9tXlcWWjvc9",
        "colab_type": "code",
        "outputId": "4a6d28f7-ae77-4f11-d485-35354d9bf101",
        "colab": {
          "base_uri": "https://localhost:8080/",
          "height": 51
        }
      },
      "source": [
        "print ( b.shape)                   \n",
        "print ( b[0, 0], b[0, 1], b[1, 0])"
      ],
      "execution_count": 4,
      "outputs": [
        {
          "output_type": "stream",
          "text": [
            "(2, 3)\n",
            "0 1 3\n"
          ],
          "name": "stdout"
        }
      ]
    },
    {
      "cell_type": "markdown",
      "metadata": {
        "nbpresent": {
          "id": "c0ab4674-bb74-4e9e-811e-44b2588e2bf8"
        },
        "id": "L8W4OPcdjvdC",
        "colab_type": "text"
      },
      "source": [
        "### Creating NumPy array\n",
        "\n",
        "NumPy also provides many built-in functions to create arrays. Best way to learn this is through examples, so let's jump into the code"
      ]
    },
    {
      "cell_type": "code",
      "metadata": {
        "nbpresent": {
          "id": "b177bdcc-0727-4edf-99fe-3c4ba8e41a41"
        },
        "id": "s7B6EEVKjvdC",
        "colab_type": "code",
        "outputId": "6da4ad37-1a50-48d5-ccda-68497a7183a6",
        "colab": {
          "base_uri": "https://localhost:8080/",
          "height": 68
        }
      },
      "source": [
        "# Create a 3x3 array of all zeros\n",
        "a = np.zeros((3,3)) \n",
        "print (a)"
      ],
      "execution_count": 5,
      "outputs": [
        {
          "output_type": "stream",
          "text": [
            "[[0. 0. 0.]\n",
            " [0. 0. 0.]\n",
            " [0. 0. 0.]]\n"
          ],
          "name": "stdout"
        }
      ]
    },
    {
      "cell_type": "code",
      "metadata": {
        "nbpresent": {
          "id": "ece13747-4520-4ac5-b629-d703c8fcbf56"
        },
        "id": "ZoP3Dv4qjvdF",
        "colab_type": "code",
        "outputId": "60fe207f-b66c-4a66-9655-0e00054e765c",
        "colab": {
          "base_uri": "https://localhost:8080/",
          "height": 51
        }
      },
      "source": [
        "# Create a 2x2 array of all ones\n",
        "b = np.ones((2,2))  \n",
        "print (b)"
      ],
      "execution_count": 6,
      "outputs": [
        {
          "output_type": "stream",
          "text": [
            "[[1. 1.]\n",
            " [1. 1.]]\n"
          ],
          "name": "stdout"
        }
      ]
    },
    {
      "cell_type": "code",
      "metadata": {
        "nbpresent": {
          "id": "b2d38782-2879-4b2d-a4fd-38ddee9663a8"
        },
        "id": "S1MWsAVhjvdI",
        "colab_type": "code",
        "outputId": "3923960d-4ee5-4a55-ad62-0b633f49da59",
        "colab": {
          "base_uri": "https://localhost:8080/",
          "height": 68
        }
      },
      "source": [
        "# Create a 3x3 constant array\n",
        "c = np.full((3,3), 7) \n",
        "print (c)"
      ],
      "execution_count": 7,
      "outputs": [
        {
          "output_type": "stream",
          "text": [
            "[[7 7 7]\n",
            " [7 7 7]\n",
            " [7 7 7]]\n"
          ],
          "name": "stdout"
        }
      ]
    },
    {
      "cell_type": "code",
      "metadata": {
        "nbpresent": {
          "id": "4bf402d7-203d-4415-81db-be3d7071b261"
        },
        "id": "kEO5QyNjjvdL",
        "colab_type": "code",
        "outputId": "24d0408a-4363-45d4-efea-f93b9710d2c9",
        "colab": {
          "base_uri": "https://localhost:8080/",
          "height": 68
        }
      },
      "source": [
        "# Create a 3x3 array filled with random values\n",
        "d = np.random.random((3,3)) \n",
        "print (d)"
      ],
      "execution_count": 8,
      "outputs": [
        {
          "output_type": "stream",
          "text": [
            "[[0.40790415 0.80533905 0.42706218]\n",
            " [0.81838109 0.83925727 0.48201058]\n",
            " [0.27187485 0.54790515 0.52539642]]\n"
          ],
          "name": "stdout"
        }
      ]
    },
    {
      "cell_type": "code",
      "metadata": {
        "nbpresent": {
          "id": "afb388c3-4f6f-456d-bf3b-385aa09ebed1"
        },
        "id": "E_TSf8cQjvdP",
        "colab_type": "code",
        "outputId": "fe08bdfa-77eb-44ed-8e61-b47a6d5f38e7",
        "colab": {
          "base_uri": "https://localhost:8080/",
          "height": 68
        }
      },
      "source": [
        "# Create a 3x3 identity matrix\n",
        "e = np.eye(3)        \n",
        "print (e)"
      ],
      "execution_count": 9,
      "outputs": [
        {
          "output_type": "stream",
          "text": [
            "[[1. 0. 0.]\n",
            " [0. 1. 0.]\n",
            " [0. 0. 1.]]\n"
          ],
          "name": "stdout"
        }
      ]
    },
    {
      "cell_type": "code",
      "metadata": {
        "id": "KcSPkbLGjvdS",
        "colab_type": "code",
        "outputId": "b2f93740-a49d-4bcd-d272-cda9c824bf19",
        "colab": {
          "base_uri": "https://localhost:8080/",
          "height": 34
        }
      },
      "source": [
        "# convert list to array\n",
        "f = np.array([2, 3, 1, 0]) \n",
        "print (f)"
      ],
      "execution_count": 10,
      "outputs": [
        {
          "output_type": "stream",
          "text": [
            "[2 3 1 0]\n"
          ],
          "name": "stdout"
        }
      ]
    },
    {
      "cell_type": "code",
      "metadata": {
        "id": "-4ij4127jvdY",
        "colab_type": "code",
        "outputId": "ca204a1d-1379-4655-b299-b88ba23e99c0",
        "colab": {
          "base_uri": "https://localhost:8080/",
          "height": 34
        }
      },
      "source": [
        "# arange() will create arrays with regularly incrementing values\n",
        "g = np.arange(20)\n",
        "print (g)"
      ],
      "execution_count": 11,
      "outputs": [
        {
          "output_type": "stream",
          "text": [
            "[ 0  1  2  3  4  5  6  7  8  9 10 11 12 13 14 15 16 17 18 19]\n"
          ],
          "name": "stdout"
        }
      ]
    },
    {
      "cell_type": "code",
      "metadata": {
        "id": "GcsCtZupjvdb",
        "colab_type": "code",
        "outputId": "72690a0f-03be-437d-b27b-5e70a30101fd",
        "colab": {
          "base_uri": "https://localhost:8080/",
          "height": 68
        }
      },
      "source": [
        "# note mix of tuple and lists \n",
        "h = np.array([[0, 1,2.0],[0,0,0],(1+1j,3.,2.)])                           \n",
        "print (h)"
      ],
      "execution_count": 12,
      "outputs": [
        {
          "output_type": "stream",
          "text": [
            "[[0.+0.j 1.+0.j 2.+0.j]\n",
            " [0.+0.j 0.+0.j 0.+0.j]\n",
            " [1.+1.j 3.+0.j 2.+0.j]]\n"
          ],
          "name": "stdout"
        }
      ]
    },
    {
      "cell_type": "code",
      "metadata": {
        "id": "sNNg1Tnsjvdf",
        "colab_type": "code",
        "outputId": "4042fbc9-12b1-4181-8711-78e68e58d3f7",
        "colab": {
          "base_uri": "https://localhost:8080/",
          "height": 34
        }
      },
      "source": [
        "# create an array of range with float data type \n",
        "i = np.arange(1, 8, dtype=np.float)\n",
        "print (i)"
      ],
      "execution_count": 13,
      "outputs": [
        {
          "output_type": "stream",
          "text": [
            "[1. 2. 3. 4. 5. 6. 7.]\n"
          ],
          "name": "stdout"
        }
      ]
    },
    {
      "cell_type": "code",
      "metadata": {
        "id": "6Ue2dDGpjvdj",
        "colab_type": "code",
        "outputId": "41d0971b-0aaa-4e82-bc30-b46b6513fc26",
        "colab": {
          "base_uri": "https://localhost:8080/",
          "height": 34
        }
      },
      "source": [
        "# linspace() will create arrays with a specified number of items which are \n",
        "# spaced equally between the specified beginning and end values\n",
        "j = np.linspace(2., 4., 5)\n",
        "print (j)"
      ],
      "execution_count": 14,
      "outputs": [
        {
          "output_type": "stream",
          "text": [
            "[2.  2.5 3.  3.5 4. ]\n"
          ],
          "name": "stdout"
        }
      ]
    },
    {
      "cell_type": "code",
      "metadata": {
        "id": "LdmgoA2qjvdm",
        "colab_type": "code",
        "outputId": "799aba77-bc9c-4f83-a008-b9a98a3e6219",
        "colab": {
          "base_uri": "https://localhost:8080/",
          "height": 102
        }
      },
      "source": [
        "# indices() will create a set of arrays stacked as a one-higher \n",
        "# dimensioned array, one per dimension with each representing variation \n",
        "# in that dimension\n",
        "k = np.indices((2,2))\n",
        "print (k)"
      ],
      "execution_count": 15,
      "outputs": [
        {
          "output_type": "stream",
          "text": [
            "[[[0 0]\n",
            "  [1 1]]\n",
            "\n",
            " [[0 1]\n",
            "  [0 1]]]\n"
          ],
          "name": "stdout"
        }
      ]
    },
    {
      "cell_type": "markdown",
      "metadata": {
        "nbpresent": {
          "id": "c4de1709-8bb3-4d89-b74e-d6de9ba7ec74"
        },
        "id": "mGGYaxD0jvdp",
        "colab_type": "text"
      },
      "source": [
        "### Datatypes"
      ]
    },
    {
      "cell_type": "markdown",
      "metadata": {
        "nbpresent": {
          "id": "10965526-aa05-4af5-9eb2-0066cc1347eb"
        },
        "id": "aoM8Pxhajvdp",
        "colab_type": "text"
      },
      "source": [
        "Array is a collection of items of same data type, NumPy supports and provided built-in funtion to construct array with optional argument to explicitly specify required datatype. "
      ]
    },
    {
      "cell_type": "code",
      "metadata": {
        "nbpresent": {
          "id": "11571575-5119-4583-836d-e83f1180227b"
        },
        "id": "g6TBaxIfjvdq",
        "colab_type": "code",
        "outputId": "c9131d5b-f97a-4af3-8fb5-c41558a71032",
        "colab": {
          "base_uri": "https://localhost:8080/",
          "height": 34
        }
      },
      "source": [
        "# Let numpy choose the datatype\n",
        "x = np.array([0, 1])  \n",
        "y = np.array([2.0, 3.0])  \n",
        "\n",
        "# Force a particular datatype\n",
        "z = np.array([5, 6], dtype=np.int64)  \n",
        "\n",
        "print (x.dtype, y.dtype, z.dtype)"
      ],
      "execution_count": 16,
      "outputs": [
        {
          "output_type": "stream",
          "text": [
            "int64 float64 int64\n"
          ],
          "name": "stdout"
        }
      ]
    },
    {
      "cell_type": "markdown",
      "metadata": {
        "nbpresent": {
          "id": "e4f9f71c-422e-4b3e-afd5-022b22564927"
        },
        "id": "bYHjTw5Mjvdu",
        "colab_type": "text"
      },
      "source": [
        "You can read all about numpy datatypes in the [documentation](http://docs.scipy.org/doc/numpy/reference/arrays.dtypes.html)."
      ]
    },
    {
      "cell_type": "markdown",
      "metadata": {
        "id": "ioBld6Fqjvdu",
        "colab_type": "text"
      },
      "source": [
        "## Array Indexing\n",
        "\n",
        "Numpy offers several ways to index into arrays. Standard Python x[obj] syntax can be used to index NumPyarray, where x is the array and obj the selection.\n",
        "\n",
        "There are three kinds of indexing available\n",
        "•\tField access\n",
        "•\tBasic slicing\n",
        "•\tAdvanced indexing\n",
        "\n",
        "### Field Access\n",
        "\n",
        "If the ndarray object is a structured array the fields of the array can be accessed by indexing the array with strings, dictionary like. Indexing x['field-name'] returns a new view to the array, which is of the same shape as x, except when the field is a sub-array, but of data type x.dtype['field-name'] and contains only the part of the data in the specified field."
      ]
    },
    {
      "cell_type": "code",
      "metadata": {
        "id": "6rtXQ0LYjvdv",
        "colab_type": "code",
        "outputId": "e50c8502-94fa-4a3f-e073-b8c330f79c90",
        "colab": {
          "base_uri": "https://localhost:8080/",
          "height": 85
        }
      },
      "source": [
        "x = np.zeros((3,3), dtype=[('a', np.int32), ('b', np.float64, (3,3))])\n",
        "print (\"x['a'].shape: \",x['a'].shape)\n",
        "print (\"x['a'].dtype: \", x['a'].dtype)\n",
        "\n",
        "print (\"x['b'].shape: \", x['b'].shape)\n",
        "print (\"x['b'].dtype: \", x['b'].dtype)"
      ],
      "execution_count": 17,
      "outputs": [
        {
          "output_type": "stream",
          "text": [
            "x['a'].shape:  (3, 3)\n",
            "x['a'].dtype:  int32\n",
            "x['b'].shape:  (3, 3, 3, 3)\n",
            "x['b'].dtype:  float64\n"
          ],
          "name": "stdout"
        }
      ]
    },
    {
      "cell_type": "markdown",
      "metadata": {
        "nbpresent": {
          "id": "5c953f9d-1452-4caf-816c-c17a83a7dd0b"
        },
        "id": "16XH3OU9jvdz",
        "colab_type": "text"
      },
      "source": [
        "### Basic Slicing"
      ]
    },
    {
      "cell_type": "markdown",
      "metadata": {
        "nbpresent": {
          "id": "3ec8186b-4ec0-4999-9005-b0e359c1f9bb"
        },
        "id": "T4exhrCIjvd0",
        "colab_type": "text"
      },
      "source": [
        "NumPy arrays can be sliced, similar to lists. You must specify a slice for each dimension of the array as the arrays may be multidimensional.\n",
        "The basic slice syntax is i:j:k where i is the starting index, j is the stopping index, and k is the step and k not equal to 0. This selects the m elements in the corresponding dimension, with index values i, i + k, ...,i + (m - 1) k where m = q + (r not equal to 0) and q and r are the quotient and remainder obtained by dividing j - i by k: j - i = q k + r, so that i + (m - 1) k < j."
      ]
    },
    {
      "cell_type": "code",
      "metadata": {
        "id": "7S3vPp_hjvd0",
        "colab_type": "code",
        "outputId": "e673a4c5-7cf0-4009-8dde-db482ee02c93",
        "colab": {
          "base_uri": "https://localhost:8080/",
          "height": 34
        }
      },
      "source": [
        "x = np.array([5, 6, 7, 8, 9])\n",
        "x[1:7:2]"
      ],
      "execution_count": 18,
      "outputs": [
        {
          "output_type": "execute_result",
          "data": {
            "text/plain": [
              "array([6, 8])"
            ]
          },
          "metadata": {
            "tags": []
          },
          "execution_count": 18
        }
      ]
    },
    {
      "cell_type": "markdown",
      "metadata": {
        "id": "85iFBzYwjvd3",
        "colab_type": "text"
      },
      "source": [
        "Negative k makes stepping go towards smaller indices. Negative i and j are interpreted as n + i and n + j where n is the number of elements in the corresponding dimension."
      ]
    },
    {
      "cell_type": "code",
      "metadata": {
        "id": "zmhcdvSCjvd3",
        "colab_type": "code",
        "outputId": "f5eeb5e5-c052-404f-fa8c-07cad3e42d58",
        "colab": {
          "base_uri": "https://localhost:8080/",
          "height": 51
        }
      },
      "source": [
        "print (x[-2:5])\n",
        "print (x[-1:1:-1])"
      ],
      "execution_count": 19,
      "outputs": [
        {
          "output_type": "stream",
          "text": [
            "[8 9]\n",
            "[9 8 7]\n"
          ],
          "name": "stdout"
        }
      ]
    },
    {
      "cell_type": "markdown",
      "metadata": {
        "id": "1qVAHS3Ljvd6",
        "colab_type": "text"
      },
      "source": [
        "If n is the number of items in the dimension being sliced. Then if i is not given then it defaults to 0 for k > 0 and n - 1 for k < 0 . If j is not given it defaults to n for k > 0 and -1 for k < 0 . If k is not given it defaults to 1. Note that :: is the same as : and means select all indices along this axis."
      ]
    },
    {
      "cell_type": "code",
      "metadata": {
        "id": "Ia_yyPv0jvd6",
        "colab_type": "code",
        "outputId": "32600966-54db-43bc-d11d-fd26637d6f62",
        "colab": {
          "base_uri": "https://localhost:8080/",
          "height": 34
        }
      },
      "source": [
        "x[4:]"
      ],
      "execution_count": 20,
      "outputs": [
        {
          "output_type": "execute_result",
          "data": {
            "text/plain": [
              "array([9])"
            ]
          },
          "metadata": {
            "tags": []
          },
          "execution_count": 20
        }
      ]
    },
    {
      "cell_type": "markdown",
      "metadata": {
        "id": "Z49fNDnQjvd8",
        "colab_type": "text"
      },
      "source": [
        "If the number of objects in the selection tuple is less than N , then : is assumed for any subsequent dimensions."
      ]
    },
    {
      "cell_type": "code",
      "metadata": {
        "id": "CmPns8mFjvd9",
        "colab_type": "code",
        "outputId": "0c1c50f7-3033-4dca-efb5-2ab58085f114",
        "colab": {
          "base_uri": "https://localhost:8080/",
          "height": 51
        }
      },
      "source": [
        "y = np.array([[[0],[1],[2],[3]], [[4],[5],[6]],[7]])\n",
        "print (\"Shape of y: \", y.shape)\n",
        "y[1:3]"
      ],
      "execution_count": 21,
      "outputs": [
        {
          "output_type": "stream",
          "text": [
            "Shape of y:  (3,)\n"
          ],
          "name": "stdout"
        },
        {
          "output_type": "execute_result",
          "data": {
            "text/plain": [
              "array([list([[4], [5], [6]]), list([7])], dtype=object)"
            ]
          },
          "metadata": {
            "tags": []
          },
          "execution_count": 21
        }
      ]
    },
    {
      "cell_type": "markdown",
      "metadata": {
        "id": "d0OS3tMNjvd_",
        "colab_type": "text"
      },
      "source": [
        "Ellipsis expand to the number of : objects needed to make a selection tuple of the same length as x.ndim. There may only be a single ellipsis present."
      ]
    },
    {
      "cell_type": "code",
      "metadata": {
        "id": "Rxa-2kIbjvd_",
        "colab_type": "code",
        "outputId": "c5f775e3-1651-4203-c308-20f34f029d31",
        "colab": {
          "base_uri": "https://localhost:8080/",
          "height": 34
        }
      },
      "source": [
        "x[...,0]"
      ],
      "execution_count": 22,
      "outputs": [
        {
          "output_type": "execute_result",
          "data": {
            "text/plain": [
              "array(5)"
            ]
          },
          "metadata": {
            "tags": []
          },
          "execution_count": 22
        }
      ]
    },
    {
      "cell_type": "code",
      "metadata": {
        "nbpresent": {
          "id": "11f6b0bd-6031-4689-b85a-f914f3239306"
        },
        "id": "xlNrcfJejveC",
        "colab_type": "code",
        "outputId": "b26dcadf-3724-477c-d916-044f2411e5e6",
        "colab": {
          "base_uri": "https://localhost:8080/",
          "height": 102
        }
      },
      "source": [
        "# Create a rank 2 array with shape (3, 4)\n",
        "a = np.array([[5,6,7,8], [1,2,3,4], [9,10,11,12]])\n",
        "print (\"Array a: \", a)\n",
        "\n",
        "# Use slicing to pull out the subarray consisting of the first 2 rows\n",
        "# and columns 1 and 2; b is the following array of shape (2, 2):\n",
        "# [[2 3]\n",
        "#  [6 7]]\n",
        "b = a[:2, 1:3]\n",
        "print (\"Array b: \", b)"
      ],
      "execution_count": 23,
      "outputs": [
        {
          "output_type": "stream",
          "text": [
            "Array a:  [[ 5  6  7  8]\n",
            " [ 1  2  3  4]\n",
            " [ 9 10 11 12]]\n",
            "Array b:  [[6 7]\n",
            " [2 3]]\n"
          ],
          "name": "stdout"
        }
      ]
    },
    {
      "cell_type": "markdown",
      "metadata": {
        "nbpresent": {
          "id": "fe024b92-8f7a-4149-a936-9e0d263fc5c6"
        },
        "id": "dcZFrD4jjveF",
        "colab_type": "text"
      },
      "source": [
        "A slice of an array is just a view into the same data, so any modification will modify the original array."
      ]
    },
    {
      "cell_type": "code",
      "metadata": {
        "nbpresent": {
          "id": "4f3bfeae-939d-412c-b3ff-0b1b01e8d280"
        },
        "id": "Zz-AywR-jveG",
        "colab_type": "code",
        "outputId": "efdace14-c0d7-4b14-84ea-9d95fb1092a1",
        "colab": {
          "base_uri": "https://localhost:8080/",
          "height": 51
        }
      },
      "source": [
        "print (a[0, 1])\n",
        "b[0, 0] = 77    # b[0, 0] is the same piece of data as a[0, 1]\n",
        "print (a[0, 1])"
      ],
      "execution_count": 24,
      "outputs": [
        {
          "output_type": "stream",
          "text": [
            "6\n",
            "77\n"
          ],
          "name": "stdout"
        }
      ]
    },
    {
      "cell_type": "markdown",
      "metadata": {
        "nbpresent": {
          "id": "bfb87342-f80e-43c7-9016-10255a79e1cd"
        },
        "id": "lMjEV0NAjveJ",
        "colab_type": "text"
      },
      "source": [
        "Middle row array can be accessed in two ways. 1) Slices along with integer indexing will result in an array of lower rank. 2) Using only slices will result in the same rank array. "
      ]
    },
    {
      "cell_type": "code",
      "metadata": {
        "nbpresent": {
          "id": "74c902a3-9551-41f5-93e5-ae133ebed74d"
        },
        "id": "X4stXim3jveJ",
        "colab_type": "code",
        "outputId": "d5777695-87d5-4d57-9194-1f90af3bf7c6",
        "colab": {
          "base_uri": "https://localhost:8080/",
          "height": 68
        }
      },
      "source": [
        "# Create the following rank 2 array with shape (3, 4)\n",
        "a = np.array([[1,2,3,4], [5,6,7,8], [9,10,11,12]])\n",
        "print (a)"
      ],
      "execution_count": 25,
      "outputs": [
        {
          "output_type": "stream",
          "text": [
            "[[ 1  2  3  4]\n",
            " [ 5  6  7  8]\n",
            " [ 9 10 11 12]]\n"
          ],
          "name": "stdout"
        }
      ]
    },
    {
      "cell_type": "markdown",
      "metadata": {
        "nbpresent": {
          "id": "713b786a-e370-4520-a69c-816d90216b7e"
        },
        "id": "fois6-rgjveM",
        "colab_type": "text"
      },
      "source": [
        "Two ways of accessing the data in the middle row of the array.\n",
        "Mixing integer indexing with slices yields an array of lower rank,\n",
        "while using only slices yields an array of the same rank as the\n",
        "original array:"
      ]
    },
    {
      "cell_type": "code",
      "metadata": {
        "nbpresent": {
          "id": "7a16811b-f3a5-4471-9e9b-655832f14951"
        },
        "id": "q4XTS8kHjveP",
        "colab_type": "code",
        "outputId": "8881d5dd-dbb4-4422-c496-d05ad25426c9",
        "colab": {
          "base_uri": "https://localhost:8080/",
          "height": 68
        }
      },
      "source": [
        "row_r1 = a[1, :]    # Rank 1 view of the second row of a  \n",
        "row_r2 = a[1:2, :]  # Rank 2 view of the second row of a\n",
        "row_r3 = a[[1], :]  # Rank 2 view of the second row of a\n",
        "print (row_r1, row_r1.shape)\n",
        "print (row_r2, row_r2.shape)\n",
        "print (row_r3, row_r3.shape)"
      ],
      "execution_count": 26,
      "outputs": [
        {
          "output_type": "stream",
          "text": [
            "[5 6 7 8] (4,)\n",
            "[[5 6 7 8]] (1, 4)\n",
            "[[5 6 7 8]] (1, 4)\n"
          ],
          "name": "stdout"
        }
      ]
    },
    {
      "cell_type": "code",
      "metadata": {
        "nbpresent": {
          "id": "bc035d98-0fcd-4660-b065-191159d16a40"
        },
        "id": "EKJUhUO-jveS",
        "colab_type": "code",
        "outputId": "3eb9075d-9b90-4336-f58f-7d1931d81e1f",
        "colab": {
          "base_uri": "https://localhost:8080/",
          "height": 85
        }
      },
      "source": [
        "# We can make the same distinction when accessing columns of an array:\n",
        "col_r1 = a[:, 1]\n",
        "col_r2 = a[:, 1:2]\n",
        "print (col_r1, col_r1.shape)\n",
        "print (col_r2, col_r2.shape)"
      ],
      "execution_count": 27,
      "outputs": [
        {
          "output_type": "stream",
          "text": [
            "[ 2  6 10] (3,)\n",
            "[[ 2]\n",
            " [ 6]\n",
            " [10]] (3, 1)\n"
          ],
          "name": "stdout"
        }
      ]
    },
    {
      "cell_type": "markdown",
      "metadata": {
        "nbpresent": {
          "id": "47f4996f-5d58-4bb8-9343-d6047f87ee23"
        },
        "id": "x9TgLeW5jveW",
        "colab_type": "text"
      },
      "source": [
        "### Advanced Indexing\n",
        "Integer array indexing: When you index into numpy arrays using slicing, the resulting array view will always be a subarray of the original array. In contrast, iInteger array indexing allows you to construct arbitrary random arrays using the data from another array. "
      ]
    },
    {
      "cell_type": "code",
      "metadata": {
        "nbpresent": {
          "id": "046f7cc2-d1b1-4ecc-8954-766df8213ca8"
        },
        "id": "-4lLSdaKjveW",
        "colab_type": "code",
        "outputId": "fdcdaa35-7dfc-4ac2-88c9-11f4ef5dd573",
        "colab": {
          "base_uri": "https://localhost:8080/",
          "height": 51
        }
      },
      "source": [
        "a = np.array([[1,2], [3, 4]])\n",
        "\n",
        "# An example of integer array indexing.\n",
        "# The returned array will have shape (2,) and \n",
        "print (a[[0, 1], [0, 1]])\n",
        "\n",
        "# The above example of integer array indexing is equivalent to this:\n",
        "print (np.array([a[0, 0], a[1, 1]]))"
      ],
      "execution_count": 28,
      "outputs": [
        {
          "output_type": "stream",
          "text": [
            "[1 4]\n",
            "[1 4]\n"
          ],
          "name": "stdout"
        }
      ]
    },
    {
      "cell_type": "code",
      "metadata": {
        "nbpresent": {
          "id": "972ce72b-2967-4b00-bb8b-9bc102766963"
        },
        "id": "2KZw8yTgjveZ",
        "colab_type": "code",
        "outputId": "1abdc8ce-43af-49f2-ac8a-1be728f740cd",
        "colab": {
          "base_uri": "https://localhost:8080/",
          "height": 51
        }
      },
      "source": [
        "# When using integer array indexing, you can reuse the same\n",
        "# element from the source array:\n",
        "print (a[[0, 0], [1, 1]])\n",
        "\n",
        "# Equivalent to the previous integer array indexing example\n",
        "print (np.array([a[0, 1], a[0, 1]]))"
      ],
      "execution_count": 29,
      "outputs": [
        {
          "output_type": "stream",
          "text": [
            "[2 2]\n",
            "[2 2]\n"
          ],
          "name": "stdout"
        }
      ]
    },
    {
      "cell_type": "markdown",
      "metadata": {
        "nbpresent": {
          "id": "7d81d830-2cc5-4069-b32d-b30a5a451421"
        },
        "id": "8s9Ja5Nejveb",
        "colab_type": "text"
      },
      "source": [
        "Boolean array indexing: This is useful to pick a random element from array, which is often used for filtering elements that satisfy a given condition."
      ]
    },
    {
      "cell_type": "code",
      "metadata": {
        "nbpresent": {
          "id": "91f0333d-feeb-4005-b498-7e5b5b76a53c"
        },
        "id": "HBaC4Rz9jvec",
        "colab_type": "code",
        "outputId": "5420211d-64e6-4b68-cd0a-b5eb774d32fd",
        "colab": {
          "base_uri": "https://localhost:8080/",
          "height": 85
        }
      },
      "source": [
        "a = np.array([[1,2], [3, 4], [5, 6]])\n",
        "# Find the elements of a that are bigger than 2\n",
        "print (a > 2)  \n",
        "\n",
        "# to get the actual value\n",
        "print (a[a > 2])"
      ],
      "execution_count": 30,
      "outputs": [
        {
          "output_type": "stream",
          "text": [
            "[[False False]\n",
            " [ True  True]\n",
            " [ True  True]]\n",
            "[3 4 5 6]\n"
          ],
          "name": "stdout"
        }
      ]
    },
    {
      "cell_type": "markdown",
      "metadata": {
        "nbpresent": {
          "id": "433cc9f3-1aa5-4495-bf07-7346f15aebc9"
        },
        "id": "XV9abhEPjvee",
        "colab_type": "text"
      },
      "source": [
        "### Array math"
      ]
    },
    {
      "cell_type": "markdown",
      "metadata": {
        "nbpresent": {
          "id": "e62dc2e9-f6b5-45d6-80fc-5de3666a83e5"
        },
        "id": "4y4yfNvbjvee",
        "colab_type": "text"
      },
      "source": [
        "Basic mathematical functions are available as operator and also as functions in NumPy. It operates elementwise on array. "
      ]
    },
    {
      "cell_type": "code",
      "metadata": {
        "nbpresent": {
          "id": "7fb9c1c4-30d7-49ee-8b5b-591c3d544dfa"
        },
        "id": "2gFxB_A1jvef",
        "colab_type": "code",
        "outputId": "94758da1-1644-47b0-f776-866cbba0737e",
        "colab": {
          "base_uri": "https://localhost:8080/",
          "height": 119
        }
      },
      "source": [
        "x = np.array([[1,2],[3,4],[5,6]])\n",
        "y = np.array([[7,8],[9,10],[11,12]])\n",
        "\n",
        "# Elementwise sum; both produce the array\n",
        "print (x + y)\n",
        "print (np.add(x, y))"
      ],
      "execution_count": 31,
      "outputs": [
        {
          "output_type": "stream",
          "text": [
            "[[ 8 10]\n",
            " [12 14]\n",
            " [16 18]]\n",
            "[[ 8 10]\n",
            " [12 14]\n",
            " [16 18]]\n"
          ],
          "name": "stdout"
        }
      ]
    },
    {
      "cell_type": "code",
      "metadata": {
        "nbpresent": {
          "id": "e528f60e-2536-42a8-a72b-ade2687058aa"
        },
        "id": "nCnjOW1Bjvei",
        "colab_type": "code",
        "outputId": "127df9aa-8507-49dc-ffd4-fa72d33dc14c",
        "colab": {
          "base_uri": "https://localhost:8080/",
          "height": 119
        }
      },
      "source": [
        "# Elementwise difference; both produce the array\n",
        "print (x - y)\n",
        "print (np.subtract(x, y))"
      ],
      "execution_count": 32,
      "outputs": [
        {
          "output_type": "stream",
          "text": [
            "[[-6 -6]\n",
            " [-6 -6]\n",
            " [-6 -6]]\n",
            "[[-6 -6]\n",
            " [-6 -6]\n",
            " [-6 -6]]\n"
          ],
          "name": "stdout"
        }
      ]
    },
    {
      "cell_type": "code",
      "metadata": {
        "nbpresent": {
          "id": "eea858e5-a2ef-46e3-bb2f-1df3d0cded03"
        },
        "id": "bok-6eWujvem",
        "colab_type": "code",
        "outputId": "b2ed2838-1bec-46ae-ea28-56e261d7c596",
        "colab": {
          "base_uri": "https://localhost:8080/",
          "height": 119
        }
      },
      "source": [
        "# Elementwise product; both produce the array\n",
        "print (x * y)\n",
        "print (np.multiply(x, y))"
      ],
      "execution_count": 33,
      "outputs": [
        {
          "output_type": "stream",
          "text": [
            "[[ 7 16]\n",
            " [27 40]\n",
            " [55 72]]\n",
            "[[ 7 16]\n",
            " [27 40]\n",
            " [55 72]]\n"
          ],
          "name": "stdout"
        }
      ]
    },
    {
      "cell_type": "code",
      "metadata": {
        "nbpresent": {
          "id": "8c3e98f6-7150-4a40-bf14-0b4df46c0aaf"
        },
        "id": "oSgeJFgAjveo",
        "colab_type": "code",
        "outputId": "576910d4-5c27-401e-9780-9c33dd920220",
        "colab": {
          "base_uri": "https://localhost:8080/",
          "height": 119
        }
      },
      "source": [
        "# Elementwise division; both produce the array\n",
        "print (x / y)\n",
        "print (np.divide(x, y))"
      ],
      "execution_count": 34,
      "outputs": [
        {
          "output_type": "stream",
          "text": [
            "[[0.14285714 0.25      ]\n",
            " [0.33333333 0.4       ]\n",
            " [0.45454545 0.5       ]]\n",
            "[[0.14285714 0.25      ]\n",
            " [0.33333333 0.4       ]\n",
            " [0.45454545 0.5       ]]\n"
          ],
          "name": "stdout"
        }
      ]
    },
    {
      "cell_type": "code",
      "metadata": {
        "nbpresent": {
          "id": "7f3fb607-16ec-417c-9979-159bcda1e457"
        },
        "id": "2sy_97QOjves",
        "colab_type": "code",
        "outputId": "2fc04b37-dabe-4d41-e603-58b3b0545685",
        "colab": {
          "base_uri": "https://localhost:8080/",
          "height": 68
        }
      },
      "source": [
        "# Elementwise square root; produces the array\n",
        "print (np.sqrt(x))"
      ],
      "execution_count": 35,
      "outputs": [
        {
          "output_type": "stream",
          "text": [
            "[[1.         1.41421356]\n",
            " [1.73205081 2.        ]\n",
            " [2.23606798 2.44948974]]\n"
          ],
          "name": "stdout"
        }
      ]
    },
    {
      "cell_type": "markdown",
      "metadata": {
        "nbpresent": {
          "id": "d4f60268-e3b6-448c-9639-5f6c4958a920"
        },
        "id": "1L4fkpa3jvew",
        "colab_type": "text"
      },
      "source": [
        "We can use \"dot\" function to calculate inner products of vectors or to multiply matrices or multiply vector by matrix"
      ]
    },
    {
      "cell_type": "code",
      "metadata": {
        "nbpresent": {
          "id": "6c3e5f50-50e7-4a13-905b-b93090dc5072"
        },
        "id": "2vJnfsrljvew",
        "colab_type": "code",
        "outputId": "13a621e5-4c74-44d9-dd0d-ff1627e96aa7",
        "colab": {
          "base_uri": "https://localhost:8080/",
          "height": 51
        }
      },
      "source": [
        "x = np.array([[1,2],[3,4]])\n",
        "y = np.array([[5,6],[7,8]])\n",
        "\n",
        "a = np.array([9,10])\n",
        "b = np.array([11, 12])\n",
        "\n",
        "# Inner product of vectors; both produce 219\n",
        "print (a.dot(b))\n",
        "print (np.dot(a, b))"
      ],
      "execution_count": 36,
      "outputs": [
        {
          "output_type": "stream",
          "text": [
            "219\n",
            "219\n"
          ],
          "name": "stdout"
        }
      ]
    },
    {
      "cell_type": "code",
      "metadata": {
        "nbpresent": {
          "id": "8c46c5a1-a425-4936-b080-93c09f475220"
        },
        "id": "A6Mz8Eecjve1",
        "colab_type": "code",
        "outputId": "de03af76-8df5-4dd9-899d-71e5726d514e",
        "colab": {
          "base_uri": "https://localhost:8080/",
          "height": 51
        }
      },
      "source": [
        "# Matrix / vector product; both produce the rank 1 array [29 67]\n",
        "print (x.dot(a))\n",
        "print (np.dot(x, a))"
      ],
      "execution_count": 37,
      "outputs": [
        {
          "output_type": "stream",
          "text": [
            "[29 67]\n",
            "[29 67]\n"
          ],
          "name": "stdout"
        }
      ]
    },
    {
      "cell_type": "code",
      "metadata": {
        "nbpresent": {
          "id": "358eb01a-0148-4ad3-9b68-cbbeb2282569"
        },
        "id": "MLhb2Q1ujve4",
        "colab_type": "code",
        "outputId": "ba5d4497-9f11-4b32-f5ed-5798663c0ec3",
        "colab": {
          "base_uri": "https://localhost:8080/",
          "height": 85
        }
      },
      "source": [
        "# Matrix / matrix product; both produce the rank 2 array\n",
        "print (x.dot(y))\n",
        "print (np.dot(x, y))"
      ],
      "execution_count": 38,
      "outputs": [
        {
          "output_type": "stream",
          "text": [
            "[[19 22]\n",
            " [43 50]]\n",
            "[[19 22]\n",
            " [43 50]]\n"
          ],
          "name": "stdout"
        }
      ]
    },
    {
      "cell_type": "markdown",
      "metadata": {
        "nbpresent": {
          "id": "a0d5e047-fc9c-42e0-a396-a210308f471f"
        },
        "id": "XAE4A3Ykjve7",
        "colab_type": "text"
      },
      "source": [
        "Numpy provides many useful functions for performing computations on arrays, one of the most useful is `sum`:"
      ]
    },
    {
      "cell_type": "code",
      "metadata": {
        "nbpresent": {
          "id": "4c34bbfd-97bb-494c-9189-ce600fe5f116"
        },
        "id": "n9oTNKwmjve7",
        "colab_type": "code",
        "outputId": "592a3b76-4181-4599-ae28-3662a5a89b7a",
        "colab": {
          "base_uri": "https://localhost:8080/",
          "height": 68
        }
      },
      "source": [
        "x = np.array([[1,2],[3,4]])\n",
        "\n",
        "# Compute sum of all elements\n",
        "print (np.sum(x))\n",
        "# Compute sum of each column\n",
        "print (np.sum(x, axis=0))\n",
        "# Compute sum of each row\n",
        "print (np.sum(x, axis=1)) "
      ],
      "execution_count": 39,
      "outputs": [
        {
          "output_type": "stream",
          "text": [
            "10\n",
            "[4 6]\n",
            "[3 7]\n"
          ],
          "name": "stdout"
        }
      ]
    },
    {
      "cell_type": "markdown",
      "metadata": {
        "nbpresent": {
          "id": "78469a44-6c27-49cb-9106-4f15e9681c9f"
        },
        "id": "U1TvdZ0zjve-",
        "colab_type": "text"
      },
      "source": [
        "Transpose is one of the common operation often performed on matrix, which can be achieved using T attribute of an array object."
      ]
    },
    {
      "cell_type": "code",
      "metadata": {
        "nbpresent": {
          "id": "a862df8a-3169-4a14-9c55-29533e181337"
        },
        "id": "XQhWMhSDjve_",
        "colab_type": "code",
        "outputId": "0dc3b729-5543-453c-89fb-25e7c454d693",
        "colab": {
          "base_uri": "https://localhost:8080/",
          "height": 85
        }
      },
      "source": [
        "print (x)\n",
        "print (x.T)"
      ],
      "execution_count": 40,
      "outputs": [
        {
          "output_type": "stream",
          "text": [
            "[[1 2]\n",
            " [3 4]]\n",
            "[[1 3]\n",
            " [2 4]]\n"
          ],
          "name": "stdout"
        }
      ]
    },
    {
      "cell_type": "code",
      "metadata": {
        "nbpresent": {
          "id": "779894e7-ae42-4839-88f8-f348b22228e6"
        },
        "id": "N94OKNY5jvfC",
        "colab_type": "code",
        "outputId": "cf65ae9f-6002-4e1f-a49e-dab53ca7b350",
        "colab": {
          "base_uri": "https://localhost:8080/",
          "height": 51
        }
      },
      "source": [
        "v = np.array([1,2,3])\n",
        "print (v)\n",
        "print (v.T)"
      ],
      "execution_count": 41,
      "outputs": [
        {
          "output_type": "stream",
          "text": [
            "[1 2 3]\n",
            "[1 2 3]\n"
          ],
          "name": "stdout"
        }
      ]
    },
    {
      "cell_type": "markdown",
      "metadata": {
        "nbpresent": {
          "id": "4c9487c6-9411-4584-b570-e2d77cd1da1a"
        },
        "id": "9VZtvLgJjvfF",
        "colab_type": "text"
      },
      "source": [
        "### Broadcasting"
      ]
    },
    {
      "cell_type": "markdown",
      "metadata": {
        "nbpresent": {
          "id": "2ad37eb1-b0db-40c6-8541-f04165042b8f"
        },
        "id": "edfHfxXajvfG",
        "colab_type": "text"
      },
      "source": [
        "Broadcasting enables arithmetic operations to be performed between different shaped arrays. Let's look at a simple example of adding a constant vector to each row of matrix. "
      ]
    },
    {
      "cell_type": "code",
      "metadata": {
        "nbpresent": {
          "id": "5879da2b-98c9-436d-b1bc-03affedd5cb0"
        },
        "id": "cagfZixvjvfH",
        "colab_type": "code",
        "outputId": "e4870d23-83ef-4fe8-a15e-4dea1554b0e8",
        "colab": {
          "base_uri": "https://localhost:8080/",
          "height": 68
        }
      },
      "source": [
        "# create a matrix\n",
        "a = np.array([[1,2,3], [4,5,6], [7,8,9]])\n",
        "# create a vector\n",
        "v = np.array([1, 0, 1])\n",
        "\n",
        "# Create an empty matrix with the same shape as a\n",
        "b = np.empty_like(a)   \n",
        "\n",
        "# Add the vector v to each row of the matrix x with an explicit loop\n",
        "for i in range(3):\n",
        "    b[i, :] = a[i, :] + v\n",
        "\n",
        "print (b)"
      ],
      "execution_count": 42,
      "outputs": [
        {
          "output_type": "stream",
          "text": [
            "[[ 2  2  4]\n",
            " [ 5  5  7]\n",
            " [ 8  8 10]]\n"
          ],
          "name": "stdout"
        }
      ]
    },
    {
      "cell_type": "markdown",
      "metadata": {
        "nbpresent": {
          "id": "819c4d6e-26a1-47a5-813e-3fa87ff172cb"
        },
        "id": "vsyliniAjvfJ",
        "colab_type": "text"
      },
      "source": [
        "If you have to perform the above operation on a large matrix through loop in Python could be slow. Let's look at an alternative approach."
      ]
    },
    {
      "cell_type": "code",
      "metadata": {
        "nbpresent": {
          "id": "3f8d22b3-0a41-4aa5-9480-e1b6c62d23bf"
        },
        "id": "UkA6UyYIjvfK",
        "colab_type": "code",
        "outputId": "524b2db8-4c4e-4d70-b4ee-e51d578efe6f",
        "colab": {
          "base_uri": "https://localhost:8080/",
          "height": 68
        }
      },
      "source": [
        "# Stack 3 copies of v on top of each other\n",
        "vv = np.tile(v, (3, 1))  \n",
        "print (vv) "
      ],
      "execution_count": 43,
      "outputs": [
        {
          "output_type": "stream",
          "text": [
            "[[1 0 1]\n",
            " [1 0 1]\n",
            " [1 0 1]]\n"
          ],
          "name": "stdout"
        }
      ]
    },
    {
      "cell_type": "code",
      "metadata": {
        "nbpresent": {
          "id": "1d3c07fd-2f8c-4314-9f39-258f14c0b9d0"
        },
        "id": "OF078hdujvfM",
        "colab_type": "code",
        "outputId": "f29ea7a6-9b9d-40b9-8a0c-13dfa13da1e6",
        "colab": {
          "base_uri": "https://localhost:8080/",
          "height": 68
        }
      },
      "source": [
        "# Add x and vv elementwise\n",
        "b = a + vv  \n",
        "print (b)"
      ],
      "execution_count": 44,
      "outputs": [
        {
          "output_type": "stream",
          "text": [
            "[[ 2  2  4]\n",
            " [ 5  5  7]\n",
            " [ 8  8 10]]\n"
          ],
          "name": "stdout"
        }
      ]
    },
    {
      "cell_type": "markdown",
      "metadata": {
        "nbpresent": {
          "id": "755ca526-39d6-4992-bfa4-e2583dd34d4b"
        },
        "id": "LazW4jtcjvfP",
        "colab_type": "text"
      },
      "source": [
        "Numpy broadcasting allows us to perform this computation without actually creating multiple copies of v"
      ]
    },
    {
      "cell_type": "code",
      "metadata": {
        "nbpresent": {
          "id": "bae5f5e4-18ae-42c9-acd6-0c456dac894b"
        },
        "id": "-57ruho5jvfP",
        "colab_type": "code",
        "outputId": "da3564a0-152f-4532-bc30-34c82fb7b242",
        "colab": {
          "base_uri": "https://localhost:8080/",
          "height": 68
        }
      },
      "source": [
        "a = np.array([[1,2,3], [4,5,6], [7,8,9]])\n",
        "v = np.array([1, 0, 1])\n",
        "\n",
        "# Add v to each row of a using broadcasting\n",
        "b = a + v  \n",
        "print (b)"
      ],
      "execution_count": 45,
      "outputs": [
        {
          "output_type": "stream",
          "text": [
            "[[ 2  2  4]\n",
            " [ 5  5  7]\n",
            " [ 8  8 10]]\n"
          ],
          "name": "stdout"
        }
      ]
    },
    {
      "cell_type": "markdown",
      "metadata": {
        "nbpresent": {
          "id": "aec532bc-5376-4fe6-bd56-4adc535a581d"
        },
        "id": "1Hb3TNWZjvfU",
        "colab_type": "text"
      },
      "source": [
        "Let's look at some applications of broadcasting:"
      ]
    },
    {
      "cell_type": "code",
      "metadata": {
        "nbpresent": {
          "id": "083c798c-534a-4c5c-aa53-5ab1293c83d1"
        },
        "id": "0hKYAvwNjvfU",
        "colab_type": "code",
        "outputId": "ae929cd0-0ea4-4569-e66e-72d49aba8e2c",
        "colab": {
          "base_uri": "https://localhost:8080/",
          "height": 68
        }
      },
      "source": [
        "# Compute outer product of vectors\n",
        "# v has shape (3,)\n",
        "v = np.array([1,2,3])\n",
        "# w has shape (2,)\n",
        "w = np.array([4,5]) \n",
        "# To compute an outer product, we first reshape v to be a column\n",
        "# vector of shape (3, 1); we can then broadcast it against w to yield\n",
        "# an output of shape (3, 2), which is the outer product of v and w:\n",
        "\n",
        "print (np.reshape(v, (3, 1)) * w)"
      ],
      "execution_count": 46,
      "outputs": [
        {
          "output_type": "stream",
          "text": [
            "[[ 4  5]\n",
            " [ 8 10]\n",
            " [12 15]]\n"
          ],
          "name": "stdout"
        }
      ]
    },
    {
      "cell_type": "code",
      "metadata": {
        "nbpresent": {
          "id": "4a704419-4f0a-4f1a-8caa-0e3ca8374fec"
        },
        "id": "PP3olCOjjvfZ",
        "colab_type": "code",
        "outputId": "17873a34-485d-4eb9-8ae7-af4d634d13e5",
        "colab": {
          "base_uri": "https://localhost:8080/",
          "height": 51
        }
      },
      "source": [
        "# Add a vector to each row of a matrix\n",
        "x = np.array([[1,2,3], [4,5,6]])\n",
        "# x has shape (2, 3) and v has shape (3,) so they broadcast to (2, 3)\n",
        "\n",
        "print (x + v)"
      ],
      "execution_count": 47,
      "outputs": [
        {
          "output_type": "stream",
          "text": [
            "[[2 4 6]\n",
            " [5 7 9]]\n"
          ],
          "name": "stdout"
        }
      ]
    },
    {
      "cell_type": "code",
      "metadata": {
        "nbpresent": {
          "id": "99536da4-49d0-42ed-ba7b-45a111879c94"
        },
        "id": "47bF6AHAjvfc",
        "colab_type": "code",
        "outputId": "7db6d56b-88a3-412e-f765-2fe42f942f18",
        "colab": {
          "base_uri": "https://localhost:8080/",
          "height": 51
        }
      },
      "source": [
        "# Add a vector to each column of a matrix\n",
        "# x has shape (2, 3) and w has shape (2,).\n",
        "# If we transpose x then it has shape (3, 2) and can be broadcast\n",
        "# against w to yield a result of shape (3, 2); transposing this result\n",
        "# yields the final result of shape (2, 3) which is the matrix x with\n",
        "# the vector w added to each column\n",
        "\n",
        "print ((x.T + w).T)"
      ],
      "execution_count": 48,
      "outputs": [
        {
          "output_type": "stream",
          "text": [
            "[[ 5  6  7]\n",
            " [ 9 10 11]]\n"
          ],
          "name": "stdout"
        }
      ]
    },
    {
      "cell_type": "code",
      "metadata": {
        "nbpresent": {
          "id": "b5890ca5-855e-4fce-9e9c-745476b4fcf9"
        },
        "id": "9OCnqkO2jvfh",
        "colab_type": "code",
        "outputId": "9ffecd39-d3d1-409f-abe9-950155f2a8ed",
        "colab": {
          "base_uri": "https://localhost:8080/",
          "height": 51
        }
      },
      "source": [
        "# Another solution is to reshape w to be a row vector of shape (2, 1);\n",
        "# we can then broadcast it directly against x to produce the same\n",
        "# output.\n",
        "print (x + np.reshape(w, (2, 1)))"
      ],
      "execution_count": 49,
      "outputs": [
        {
          "output_type": "stream",
          "text": [
            "[[ 5  6  7]\n",
            " [ 9 10 11]]\n"
          ],
          "name": "stdout"
        }
      ]
    },
    {
      "cell_type": "code",
      "metadata": {
        "nbpresent": {
          "id": "e6259eab-7a88-4eea-a563-e7956fec2563"
        },
        "id": "g0nQE7WAjvfl",
        "colab_type": "code",
        "outputId": "d04d05d4-953d-41b4-afea-0f6f5a6dea47",
        "colab": {
          "base_uri": "https://localhost:8080/",
          "height": 51
        }
      },
      "source": [
        "# Multiply a matrix by a constant:\n",
        "# x has shape (2, 3). Numpy treats scalars as arrays of shape ();\n",
        "# these can be broadcast together to shape (2, 3), producing the\n",
        "# following array:\n",
        "print (x * 2)"
      ],
      "execution_count": 50,
      "outputs": [
        {
          "output_type": "stream",
          "text": [
            "[[ 2  4  6]\n",
            " [ 8 10 12]]\n"
          ],
          "name": "stdout"
        }
      ]
    },
    {
      "cell_type": "markdown",
      "metadata": {
        "nbpresent": {
          "id": "3fa21e0e-6809-4cef-b41c-187e102a902f"
        },
        "id": "pi7Psw5ajvfo",
        "colab_type": "text"
      },
      "source": [
        "Broadcasting typically makes your code more concise and faster, so you should strive to use it where possible."
      ]
    },
    {
      "cell_type": "markdown",
      "metadata": {
        "nbpresent": {
          "id": "0433d554-c0f9-45e9-bb2f-7b072456643d"
        },
        "id": "E3vA5nu4jvfp",
        "colab_type": "text"
      },
      "source": [
        "This brief overview has touched on many of the important things that you need to know about numpy, but is far from complete. Check out the [numpy reference](http://docs.scipy.org/doc/numpy/reference/) to find out much more about numpy."
      ]
    }
  ]
}