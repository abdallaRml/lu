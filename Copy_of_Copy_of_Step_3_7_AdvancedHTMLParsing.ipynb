{
  "nbformat": 4,
  "nbformat_minor": 0,
  "metadata": {
    "kernelspec": {
      "display_name": "Python 3",
      "language": "python",
      "name": "python3"
    },
    "language_info": {
      "codemirror_mode": {
        "name": "ipython",
        "version": 3
      },
      "file_extension": ".py",
      "mimetype": "text/x-python",
      "name": "python",
      "nbconvert_exporter": "python",
      "pygments_lexer": "ipython3",
      "version": "3.6.1"
    },
    "colab": {
      "name": "Copy of Copy of Step_3_7_AdvancedHTMLParsing.ipynb",
      "provenance": [],
      "collapsed_sections": [],
      "include_colab_link": true
    }
  },
  "cells": [
    {
      "cell_type": "markdown",
      "metadata": {
        "id": "view-in-github",
        "colab_type": "text"
      },
      "source": [
        "<a href=\"https://colab.research.google.com/github/abdallaRml/lu/blob/master/Copy_of_Copy_of_Step_3_7_AdvancedHTMLParsing.ipynb\" target=\"_parent\"><img src=\"https://colab.research.google.com/assets/colab-badge.svg\" alt=\"Open In Colab\"/></a>"
      ]
    },
    {
      "cell_type": "markdown",
      "metadata": {
        "id": "cuyEhGE8Icns",
        "colab_type": "raw"
      },
      "source": [
        "from urllib.request import urlopen\n",
        "from bs4 import BeautifulSoup\n",
        "html = urlopen('http://www.pythonscraping.com/pages/warandpeace.html')\n",
        "bs = BeautifulSoup(html, 'html.parser')\n",
        "print(bs)"
      ]
    },
    {
      "cell_type": "markdown",
      "metadata": {
        "id": "d_6rATYvOGmT",
        "colab_type": "text"
      },
      "source": [
        "This example explains standard and creative ways of selecting tags based on their position, context, attributes, and con‐ tents. The techniques presented here, when used correctly, will go a long way toward writing more stable and reliable web crawlers.\n"
      ]
    },
    {
      "cell_type": "code",
      "metadata": {
        "id": "l8twNzq1Icnu",
        "colab_type": "code",
        "colab": {}
      },
      "source": [
        "from urllib.request import urlopen\n",
        "from bs4 import BeautifulSoup\n",
        "html = urlopen('http://www.pythonscraping.com/pages/warandpeace.html')\n",
        "bs = BeautifulSoup(html, \"html.parser\")"
      ],
      "execution_count": 0,
      "outputs": []
    },
    {
      "cell_type": "markdown",
      "metadata": {
        "id": "Luy5qLQVO9pX",
        "colab_type": "text"
      },
      "source": [
        "Using this BeautifulSoup object, you can use the find_all function to extract a Python list of proper nouns found by selecting only the text within < span class=\"green\">< /span> tags (find_all is an extremely flexible function you’ll be using a lot later in this book):"
      ]
    },
    {
      "cell_type": "code",
      "metadata": {
        "id": "hIqHj6aUIcny",
        "colab_type": "code",
        "outputId": "68846cc3-d387-48f0-aa64-bd3984648991",
        "colab": {
          "base_uri": "https://localhost:8080/",
          "height": 799
        }
      },
      "source": [
        "nameList = bs.findAll('span', {'class': 'green'})\n",
        "for name in nameList:\n",
        "    print(name.get_text())"
      ],
      "execution_count": 2,
      "outputs": [
        {
          "output_type": "stream",
          "text": [
            "Anna\n",
            "Pavlovna Scherer\n",
            "Empress Marya\n",
            "Fedorovna\n",
            "Prince Vasili Kuragin\n",
            "Anna Pavlovna\n",
            "St. Petersburg\n",
            "the prince\n",
            "Anna Pavlovna\n",
            "Anna Pavlovna\n",
            "the prince\n",
            "the prince\n",
            "the prince\n",
            "Prince Vasili\n",
            "Anna Pavlovna\n",
            "Anna Pavlovna\n",
            "the prince\n",
            "Wintzingerode\n",
            "King of Prussia\n",
            "le Vicomte de Mortemart\n",
            "Montmorencys\n",
            "Rohans\n",
            "Abbe Morio\n",
            "the Emperor\n",
            "the prince\n",
            "Prince Vasili\n",
            "Dowager Empress Marya Fedorovna\n",
            "the baron\n",
            "Anna Pavlovna\n",
            "the Empress\n",
            "the Empress\n",
            "Anna Pavlovna's\n",
            "Her Majesty\n",
            "Baron\n",
            "Funke\n",
            "The prince\n",
            "Anna\n",
            "Pavlovna\n",
            "the Empress\n",
            "The prince\n",
            "Anatole\n",
            "the prince\n",
            "The prince\n",
            "Anna\n",
            "Pavlovna\n",
            "Anna Pavlovna\n"
          ],
          "name": "stdout"
        }
      ]
    },
    {
      "cell_type": "markdown",
      "metadata": {
        "id": "wOu3YUh-SjGw",
        "colab_type": "text"
      },
      "source": [
        "# find() and find_all() with BeautifulSoup\n",
        "BeautifulSoup’s find() and find_all() are the two functions you will likely use the most. With them, you can easily filter HTML pages to find lists of desired tags, or a single tag, based on their various attributes.\n",
        "The two functions are extremely similar, as evidenced by their definitions in the BeautifulSoup documentation:\n",
        "\n",
        "find_all(tag, attributes, recursive, text, limit, keywords) \n",
        "\n",
        "find(tag, attributes, recursive, text, keywords)\n",
        "\n",
        "In all likelihood, 95% of the time you will need to use only the first two arguments:\n",
        "tag and attributes. However, let’s take a look at all the arguments in greater detail.\n",
        "The tag argument is one that you’ve seen before; you can pass a string name of a tag or even a Python list of string tag names. For example, the following returns a list of all the header tags in a document:1\n",
        "\n",
        ".find_all(['h1','h2','h3','h4','h5','h6'])\n",
        "\n",
        "The attributes argument takes a Python dictionary of attributes and matches tags that contain any one of those attributes. For example, the following function would return both the green and red span tags in the HTML document:\n"
      ]
    },
    {
      "cell_type": "code",
      "metadata": {
        "id": "y6_xLuVkIcn2",
        "colab_type": "code",
        "outputId": "f0532809-9047-464c-8aaf-909eec3de864",
        "colab": {
          "base_uri": "https://localhost:8080/",
          "height": 34
        }
      },
      "source": [
        "titles = bs.find_all(['h1', 'h2','h3','h4','h5','h6'])\n",
        "print([title for title in titles])\n"
      ],
      "execution_count": 3,
      "outputs": [
        {
          "output_type": "stream",
          "text": [
            "[<h1>War and Peace</h1>, <h2>Chapter 1</h2>]\n"
          ],
          "name": "stdout"
        }
      ]
    },
    {
      "cell_type": "markdown",
      "metadata": {
        "id": "nIcozOzXZbP6",
        "colab_type": "text"
      },
      "source": [
        "The recursive argument is a boolean. How deeply into the document do you want to go? If recursive is set to True, the find_all function looks into children, and child‐\n"
      ]
    },
    {
      "cell_type": "code",
      "metadata": {
        "id": "NjZuu4zRIcn5",
        "colab_type": "code",
        "outputId": "5ff36b46-1b61-44ca-9ef8-a3f1eae7fb18",
        "colab": {
          "base_uri": "https://localhost:8080/",
          "height": 1000
        }
      },
      "source": [
        "allText = bs.find_all('span', {'class':{'green', 'red'}})\n",
        "print([text for text in allText])"
      ],
      "execution_count": 4,
      "outputs": [
        {
          "output_type": "stream",
          "text": [
            "[<span class=\"red\">Well, Prince, so Genoa and Lucca are now just family estates of the\n",
            "Buonapartes. But I warn you, if you don't tell me that this means war,\n",
            "if you still try to defend the infamies and horrors perpetrated by\n",
            "that Antichrist- I really believe he is Antichrist- I will have\n",
            "nothing more to do with you and you are no longer my friend, no longer\n",
            "my 'faithful slave,' as you call yourself! But how do you do? I see\n",
            "I have frightened you- sit down and tell me all the news.</span>, <span class=\"green\">Anna\n",
            "Pavlovna Scherer</span>, <span class=\"green\">Empress Marya\n",
            "Fedorovna</span>, <span class=\"green\">Prince Vasili Kuragin</span>, <span class=\"green\">Anna Pavlovna</span>, <span class=\"green\">St. Petersburg</span>, <span class=\"red\">If you have nothing better to do, Count [or Prince], and if the\n",
            "prospect of spending an evening with a poor invalid is not too\n",
            "terrible, I shall be very charmed to see you tonight between 7 and 10-\n",
            "Annette Scherer.</span>, <span class=\"red\">Heavens! what a virulent attack!</span>, <span class=\"green\">the prince</span>, <span class=\"green\">Anna Pavlovna</span>, <span class=\"red\">First of all, dear friend, tell me how you are. Set your friend's\n",
            "mind at rest,</span>, <span class=\"red\">Can one be well while suffering morally? Can one be calm in times\n",
            "like these if one has any feeling?</span>, <span class=\"green\">Anna Pavlovna</span>, <span class=\"red\">You are\n",
            "staying the whole evening, I hope?</span>, <span class=\"red\">And the fete at the English ambassador's? Today is Wednesday. I\n",
            "must put in an appearance there,</span>, <span class=\"green\">the prince</span>, <span class=\"red\">My daughter is\n",
            "coming for me to take me there.</span>, <span class=\"red\">I thought today's fete had been canceled. I confess all these\n",
            "festivities and fireworks are becoming wearisome.</span>, <span class=\"red\">If they had known that you wished it, the entertainment would\n",
            "have been put off,</span>, <span class=\"green\">the prince</span>, <span class=\"red\">Don't tease! Well, and what has been decided about Novosiltsev's\n",
            "dispatch? You know everything.</span>, <span class=\"red\">What can one say about it?</span>, <span class=\"green\">the prince</span>, <span class=\"red\">What has been decided? They have decided that\n",
            "Buonaparte has burnt his boats, and I believe that we are ready to\n",
            "burn ours.</span>, <span class=\"green\">Prince Vasili</span>, <span class=\"green\">Anna Pavlovna</span>, <span class=\"green\">Anna Pavlovna</span>, <span class=\"red\">Oh, don't speak to me of Austria. Perhaps I don't understand\n",
            "things, but Austria never has wished, and does not wish, for war.\n",
            "She is betraying us! Russia alone must save Europe. Our gracious\n",
            "sovereign recognizes his high vocation and will be true to it. That is\n",
            "the one thing I have faith in! Our good and wonderful sovereign has to\n",
            "perform the noblest role on earth, and he is so virtuous and noble\n",
            "that God will not forsake him. He will fulfill his vocation and\n",
            "crush the hydra of revolution, which has become more terrible than\n",
            "ever in the person of this murderer and villain! We alone must\n",
            "avenge the blood of the just one.... Whom, I ask you, can we rely\n",
            "on?... England with her commercial spirit will not and cannot\n",
            "understand the Emperor Alexander's loftiness of soul. She has\n",
            "refused to evacuate Malta. She wanted to find, and still seeks, some\n",
            "secret motive in our actions. What answer did Novosiltsev get? None.\n",
            "The English have not understood and cannot understand the\n",
            "self-abnegation of our Emperor who wants nothing for himself, but only\n",
            "desires the good of mankind. And what have they promised? Nothing! And\n",
            "what little they have promised they will not perform! Prussia has\n",
            "always declared that Buonaparte is invincible, and that all Europe\n",
            "is powerless before him.... And I don't believe a word that Hardenburg\n",
            "says, or Haugwitz either. This famous Prussian neutrality is just a\n",
            "trap. I have faith only in God and the lofty destiny of our adored\n",
            "monarch. He will save Europe!</span>, <span class=\"red\">I think,</span>, <span class=\"green\">the prince</span>, <span class=\"red\">that if you had been\n",
            "sent instead of our dear <span class=\"green\">Wintzingerode</span> you would have captured the\n",
            "<span class=\"green\">King of Prussia</span>'s consent by assault. You are so eloquent. Will you\n",
            "give me a cup of tea?</span>, <span class=\"green\">Wintzingerode</span>, <span class=\"green\">King of Prussia</span>, <span class=\"red\">In a moment. A propos,</span>, <span class=\"red\">I am\n",
            "expecting two very interesting men tonight, <span class=\"green\">le Vicomte de Mortemart</span>,\n",
            "who is connected with the <span class=\"green\">Montmorencys</span> through the <span class=\"green\">Rohans</span>, one of\n",
            "the best French families. He is one of the genuine emigres, the good\n",
            "ones. And also the <span class=\"green\">Abbe Morio</span>. Do you know that profound thinker? He\n",
            "has been received by <span class=\"green\">the Emperor</span>. Had you heard?</span>, <span class=\"green\">le Vicomte de Mortemart</span>, <span class=\"green\">Montmorencys</span>, <span class=\"green\">Rohans</span>, <span class=\"green\">Abbe Morio</span>, <span class=\"green\">the Emperor</span>, <span class=\"red\">I shall be delighted to meet them,</span>, <span class=\"green\">the prince</span>, <span class=\"red\">But tell me,</span>, <span class=\"red\">is it true that the Dowager Empress wants Baron Funke\n",
            "to be appointed first secretary at Vienna? The baron by all accounts\n",
            "is a poor creature.</span>, <span class=\"green\">Prince Vasili</span>, <span class=\"green\">Dowager Empress Marya Fedorovna</span>, <span class=\"green\">the baron</span>, <span class=\"green\">Anna Pavlovna</span>, <span class=\"green\">the Empress</span>, <span class=\"red\">Baron Funke has been recommended to the Dowager Empress by her\n",
            "sister,</span>, <span class=\"green\">the Empress</span>, <span class=\"green\">Anna Pavlovna's</span>, <span class=\"green\">Her Majesty</span>, <span class=\"green\">Baron\n",
            "Funke</span>, <span class=\"green\">The prince</span>, <span class=\"green\">Anna\n",
            "Pavlovna</span>, <span class=\"green\">the Empress</span>, <span class=\"red\">Now about your family. Do you know that since your daughter came\n",
            "out everyone has been enraptured by her? They say she is amazingly\n",
            "beautiful.</span>, <span class=\"green\">The prince</span>, <span class=\"red\">I often think,</span>, <span class=\"red\">I often think how unfairly sometimes the\n",
            "joys of life are distributed. Why has fate given you two such splendid\n",
            "children? I don't speak of <span class=\"green\">Anatole</span>, your youngest. I don't like\n",
            "him,</span>, <span class=\"green\">Anatole</span>, <span class=\"red\">Two such charming children. And really you appreciate\n",
            "them less than anyone, and so you don't deserve to have them.</span>, <span class=\"red\">I can't help it,</span>, <span class=\"green\">the prince</span>, <span class=\"red\">Lavater would have said I\n",
            "lack the bump of paternity.</span>, <span class=\"red\">Don't joke; I mean to have a serious talk with you. Do you know I\n",
            "am dissatisfied with your younger son? Between ourselves</span>, <span class=\"red\">he was mentioned at Her\n",
            "Majesty's and you were pitied....</span>, <span class=\"green\">The prince</span>, <span class=\"red\">What would you have me do?</span>, <span class=\"red\">You know I did all\n",
            "a father could for their education, and they have both turned out\n",
            "fools. Hippolyte is at least a quiet fool, but Anatole is an active\n",
            "one. That is the only difference between them.</span>, <span class=\"red\">And why are children born to such men as you? If you were not a\n",
            "father there would be nothing I could reproach you with,</span>, <span class=\"green\">Anna\n",
            "Pavlovna</span>, <span class=\"red\">I am your faithful slave and to you alone I can confess that my\n",
            "children are the bane of my life. It is the cross I have to bear. That\n",
            "is how I explain it to myself. It can't be helped!</span>, <span class=\"green\">Anna Pavlovna</span>]\n"
          ],
          "name": "stdout"
        }
      ]
    },
    {
      "cell_type": "markdown",
      "metadata": {
        "id": "fdtL5MCHbKN0",
        "colab_type": "text"
      },
      "source": [
        "The recursive argument is a boolean. How deeply into the document do you want to go? If recursive is set to True, the find_all function looks into children, and children’s children, for tags that match your parameters. If it is False, it will look only at the top-level tags in your document. By default, find_all works recursively (recur sive is set to True); it’s generally a good idea to leave this as is, unless you really know what you need to do and performance is an issue.\n",
        "The text argument is unusual in that it matches based on the text content of the tags, rather than properties of the tags themselves. For instance, if you want to find the number of times “the prince” is surrounded by tags on the example page, you could replace your .find_all() function in the previous example with the following lines:\n"
      ]
    },
    {
      "cell_type": "code",
      "metadata": {
        "id": "biZu8JvfIcn9",
        "colab_type": "code",
        "outputId": "8e3dcbc1-4a70-4c32-aa19-ace6c20f8109",
        "colab": {
          "base_uri": "https://localhost:8080/",
          "height": 34
        }
      },
      "source": [
        "nameList = bs.find_all(text='the prince')\n",
        "print(len(nameList))"
      ],
      "execution_count": 5,
      "outputs": [
        {
          "output_type": "stream",
          "text": [
            "7\n"
          ],
          "name": "stdout"
        }
      ]
    },
    {
      "cell_type": "markdown",
      "metadata": {
        "id": "kmygZCb5bvbe",
        "colab_type": "text"
      },
      "source": [
        "The limit argument, of course, is used only in the find_all method; find is equiva‐ lent to the same find_all call, with a limit of 1. You might set this if you’re interested only in retrieving the first x items from the page. Be aware, however, that this gives you the first items on the page in the order that they occur, not necessarily the first ones that you want.\n",
        "The keyword argument allows you to select tags that contain a particular attribute or set of attributes. For example:\n"
      ]
    },
    {
      "cell_type": "code",
      "metadata": {
        "id": "v0sjmMuNIcoB",
        "colab_type": "code",
        "outputId": "c46fda70-b0c3-4dc0-f210-b11f0f58d5dd",
        "colab": {
          "base_uri": "https://localhost:8080/",
          "height": 1000
        }
      },
      "source": [
        "title = bs.find_all(id='title', class_='text')\n",
        "print([text for text in allText])"
      ],
      "execution_count": 6,
      "outputs": [
        {
          "output_type": "stream",
          "text": [
            "[<span class=\"red\">Well, Prince, so Genoa and Lucca are now just family estates of the\n",
            "Buonapartes. But I warn you, if you don't tell me that this means war,\n",
            "if you still try to defend the infamies and horrors perpetrated by\n",
            "that Antichrist- I really believe he is Antichrist- I will have\n",
            "nothing more to do with you and you are no longer my friend, no longer\n",
            "my 'faithful slave,' as you call yourself! But how do you do? I see\n",
            "I have frightened you- sit down and tell me all the news.</span>, <span class=\"green\">Anna\n",
            "Pavlovna Scherer</span>, <span class=\"green\">Empress Marya\n",
            "Fedorovna</span>, <span class=\"green\">Prince Vasili Kuragin</span>, <span class=\"green\">Anna Pavlovna</span>, <span class=\"green\">St. Petersburg</span>, <span class=\"red\">If you have nothing better to do, Count [or Prince], and if the\n",
            "prospect of spending an evening with a poor invalid is not too\n",
            "terrible, I shall be very charmed to see you tonight between 7 and 10-\n",
            "Annette Scherer.</span>, <span class=\"red\">Heavens! what a virulent attack!</span>, <span class=\"green\">the prince</span>, <span class=\"green\">Anna Pavlovna</span>, <span class=\"red\">First of all, dear friend, tell me how you are. Set your friend's\n",
            "mind at rest,</span>, <span class=\"red\">Can one be well while suffering morally? Can one be calm in times\n",
            "like these if one has any feeling?</span>, <span class=\"green\">Anna Pavlovna</span>, <span class=\"red\">You are\n",
            "staying the whole evening, I hope?</span>, <span class=\"red\">And the fete at the English ambassador's? Today is Wednesday. I\n",
            "must put in an appearance there,</span>, <span class=\"green\">the prince</span>, <span class=\"red\">My daughter is\n",
            "coming for me to take me there.</span>, <span class=\"red\">I thought today's fete had been canceled. I confess all these\n",
            "festivities and fireworks are becoming wearisome.</span>, <span class=\"red\">If they had known that you wished it, the entertainment would\n",
            "have been put off,</span>, <span class=\"green\">the prince</span>, <span class=\"red\">Don't tease! Well, and what has been decided about Novosiltsev's\n",
            "dispatch? You know everything.</span>, <span class=\"red\">What can one say about it?</span>, <span class=\"green\">the prince</span>, <span class=\"red\">What has been decided? They have decided that\n",
            "Buonaparte has burnt his boats, and I believe that we are ready to\n",
            "burn ours.</span>, <span class=\"green\">Prince Vasili</span>, <span class=\"green\">Anna Pavlovna</span>, <span class=\"green\">Anna Pavlovna</span>, <span class=\"red\">Oh, don't speak to me of Austria. Perhaps I don't understand\n",
            "things, but Austria never has wished, and does not wish, for war.\n",
            "She is betraying us! Russia alone must save Europe. Our gracious\n",
            "sovereign recognizes his high vocation and will be true to it. That is\n",
            "the one thing I have faith in! Our good and wonderful sovereign has to\n",
            "perform the noblest role on earth, and he is so virtuous and noble\n",
            "that God will not forsake him. He will fulfill his vocation and\n",
            "crush the hydra of revolution, which has become more terrible than\n",
            "ever in the person of this murderer and villain! We alone must\n",
            "avenge the blood of the just one.... Whom, I ask you, can we rely\n",
            "on?... England with her commercial spirit will not and cannot\n",
            "understand the Emperor Alexander's loftiness of soul. She has\n",
            "refused to evacuate Malta. She wanted to find, and still seeks, some\n",
            "secret motive in our actions. What answer did Novosiltsev get? None.\n",
            "The English have not understood and cannot understand the\n",
            "self-abnegation of our Emperor who wants nothing for himself, but only\n",
            "desires the good of mankind. And what have they promised? Nothing! And\n",
            "what little they have promised they will not perform! Prussia has\n",
            "always declared that Buonaparte is invincible, and that all Europe\n",
            "is powerless before him.... And I don't believe a word that Hardenburg\n",
            "says, or Haugwitz either. This famous Prussian neutrality is just a\n",
            "trap. I have faith only in God and the lofty destiny of our adored\n",
            "monarch. He will save Europe!</span>, <span class=\"red\">I think,</span>, <span class=\"green\">the prince</span>, <span class=\"red\">that if you had been\n",
            "sent instead of our dear <span class=\"green\">Wintzingerode</span> you would have captured the\n",
            "<span class=\"green\">King of Prussia</span>'s consent by assault. You are so eloquent. Will you\n",
            "give me a cup of tea?</span>, <span class=\"green\">Wintzingerode</span>, <span class=\"green\">King of Prussia</span>, <span class=\"red\">In a moment. A propos,</span>, <span class=\"red\">I am\n",
            "expecting two very interesting men tonight, <span class=\"green\">le Vicomte de Mortemart</span>,\n",
            "who is connected with the <span class=\"green\">Montmorencys</span> through the <span class=\"green\">Rohans</span>, one of\n",
            "the best French families. He is one of the genuine emigres, the good\n",
            "ones. And also the <span class=\"green\">Abbe Morio</span>. Do you know that profound thinker? He\n",
            "has been received by <span class=\"green\">the Emperor</span>. Had you heard?</span>, <span class=\"green\">le Vicomte de Mortemart</span>, <span class=\"green\">Montmorencys</span>, <span class=\"green\">Rohans</span>, <span class=\"green\">Abbe Morio</span>, <span class=\"green\">the Emperor</span>, <span class=\"red\">I shall be delighted to meet them,</span>, <span class=\"green\">the prince</span>, <span class=\"red\">But tell me,</span>, <span class=\"red\">is it true that the Dowager Empress wants Baron Funke\n",
            "to be appointed first secretary at Vienna? The baron by all accounts\n",
            "is a poor creature.</span>, <span class=\"green\">Prince Vasili</span>, <span class=\"green\">Dowager Empress Marya Fedorovna</span>, <span class=\"green\">the baron</span>, <span class=\"green\">Anna Pavlovna</span>, <span class=\"green\">the Empress</span>, <span class=\"red\">Baron Funke has been recommended to the Dowager Empress by her\n",
            "sister,</span>, <span class=\"green\">the Empress</span>, <span class=\"green\">Anna Pavlovna's</span>, <span class=\"green\">Her Majesty</span>, <span class=\"green\">Baron\n",
            "Funke</span>, <span class=\"green\">The prince</span>, <span class=\"green\">Anna\n",
            "Pavlovna</span>, <span class=\"green\">the Empress</span>, <span class=\"red\">Now about your family. Do you know that since your daughter came\n",
            "out everyone has been enraptured by her? They say she is amazingly\n",
            "beautiful.</span>, <span class=\"green\">The prince</span>, <span class=\"red\">I often think,</span>, <span class=\"red\">I often think how unfairly sometimes the\n",
            "joys of life are distributed. Why has fate given you two such splendid\n",
            "children? I don't speak of <span class=\"green\">Anatole</span>, your youngest. I don't like\n",
            "him,</span>, <span class=\"green\">Anatole</span>, <span class=\"red\">Two such charming children. And really you appreciate\n",
            "them less than anyone, and so you don't deserve to have them.</span>, <span class=\"red\">I can't help it,</span>, <span class=\"green\">the prince</span>, <span class=\"red\">Lavater would have said I\n",
            "lack the bump of paternity.</span>, <span class=\"red\">Don't joke; I mean to have a serious talk with you. Do you know I\n",
            "am dissatisfied with your younger son? Between ourselves</span>, <span class=\"red\">he was mentioned at Her\n",
            "Majesty's and you were pitied....</span>, <span class=\"green\">The prince</span>, <span class=\"red\">What would you have me do?</span>, <span class=\"red\">You know I did all\n",
            "a father could for their education, and they have both turned out\n",
            "fools. Hippolyte is at least a quiet fool, but Anatole is an active\n",
            "one. That is the only difference between them.</span>, <span class=\"red\">And why are children born to such men as you? If you were not a\n",
            "father there would be nothing I could reproach you with,</span>, <span class=\"green\">Anna\n",
            "Pavlovna</span>, <span class=\"red\">I am your faithful slave and to you alone I can confess that my\n",
            "children are the bane of my life. It is the cross I have to bear. That\n",
            "is how I explain it to myself. It can't be helped!</span>, <span class=\"green\">Anna Pavlovna</span>]\n"
          ],
          "name": "stdout"
        }
      ]
    },
    {
      "cell_type": "markdown",
      "metadata": {
        "id": "iPyKKXjkf7t3",
        "colab_type": "text"
      },
      "source": [
        "# Dealing with children and other descendants\n",
        "In computer science and some branches of mathematics, you often hear about horrible things done to children: moving them, storing them, removing them, and even killing them. \n",
        "\n",
        "Fortunately, this section focuses only on selecting them!\n",
        "In the BeautifulSoup library, as well as many other libraries, there is a distinction drawn between children and descendants: much like in a human family tree, children are always exactly one tag below a parent, whereas descendants can be at any level in the tree below a parent. For example, the tr tags are children of the table tag, whereas tr, th, td, img, and span are all descendants of the table tag (at least in our example page). All children are descendants, but not all descendants are children.\n",
        " \n",
        "In general, BeautifulSoup functions always deal with the descendants of the current tag selected. For instance, bs.body.h1 selects the first h1 tag that is a descendant of the body tag. It will not find tags located outside the body.\n",
        "Similarly, bs.div.find_all('img') will find the first div tag in the document, and then retrieve a list of all img tags that are descendants of that div tag.\n",
        "If you want to find only descendants that are children, you can use the .children\n",
        "tag:\n"
      ]
    },
    {
      "cell_type": "code",
      "metadata": {
        "id": "PJRKCmnWIcoE",
        "colab_type": "code",
        "outputId": "9b9217b9-ab12-424d-d9c3-f37b51afe4f8",
        "colab": {
          "base_uri": "https://localhost:8080/",
          "height": 1000
        }
      },
      "source": [
        "from urllib.request import urlopen\n",
        "from bs4 import BeautifulSoup\n",
        "\n",
        "html = urlopen('http://www.pythonscraping.com/pages/page3.html')\n",
        "bs = BeautifulSoup(html, 'html.parser')\n",
        "\n",
        "for child in bs.find('table',{'id':'giftList'}).children:\n",
        "    print(child)"
      ],
      "execution_count": 7,
      "outputs": [
        {
          "output_type": "stream",
          "text": [
            "\n",
            "\n",
            "<tr><th>\n",
            "Item Title\n",
            "</th><th>\n",
            "Description\n",
            "</th><th>\n",
            "Cost\n",
            "</th><th>\n",
            "Image\n",
            "</th></tr>\n",
            "\n",
            "\n",
            "<tr class=\"gift\" id=\"gift1\"><td>\n",
            "Vegetable Basket\n",
            "</td><td>\n",
            "This vegetable basket is the perfect gift for your health conscious (or overweight) friends!\n",
            "<span class=\"excitingNote\">Now with super-colorful bell peppers!</span>\n",
            "</td><td>\n",
            "$15.00\n",
            "</td><td>\n",
            "<img src=\"../img/gifts/img1.jpg\"/>\n",
            "</td></tr>\n",
            "\n",
            "\n",
            "<tr class=\"gift\" id=\"gift2\"><td>\n",
            "Russian Nesting Dolls\n",
            "</td><td>\n",
            "Hand-painted by trained monkeys, these exquisite dolls are priceless! And by \"priceless,\" we mean \"extremely expensive\"! <span class=\"excitingNote\">8 entire dolls per set! Octuple the presents!</span>\n",
            "</td><td>\n",
            "$10,000.52\n",
            "</td><td>\n",
            "<img src=\"../img/gifts/img2.jpg\"/>\n",
            "</td></tr>\n",
            "\n",
            "\n",
            "<tr class=\"gift\" id=\"gift3\"><td>\n",
            "Fish Painting\n",
            "</td><td>\n",
            "If something seems fishy about this painting, it's because it's a fish! <span class=\"excitingNote\">Also hand-painted by trained monkeys!</span>\n",
            "</td><td>\n",
            "$10,005.00\n",
            "</td><td>\n",
            "<img src=\"../img/gifts/img3.jpg\"/>\n",
            "</td></tr>\n",
            "\n",
            "\n",
            "<tr class=\"gift\" id=\"gift4\"><td>\n",
            "Dead Parrot\n",
            "</td><td>\n",
            "This is an ex-parrot! <span class=\"excitingNote\">Or maybe he's only resting?</span>\n",
            "</td><td>\n",
            "$0.50\n",
            "</td><td>\n",
            "<img src=\"../img/gifts/img4.jpg\"/>\n",
            "</td></tr>\n",
            "\n",
            "\n",
            "<tr class=\"gift\" id=\"gift5\"><td>\n",
            "Mystery Box\n",
            "</td><td>\n",
            "If you love suprises, this mystery box is for you! Do not place on light-colored surfaces. May cause oil staining. <span class=\"excitingNote\">Keep your friends guessing!</span>\n",
            "</td><td>\n",
            "$1.50\n",
            "</td><td>\n",
            "<img src=\"../img/gifts/img6.jpg\"/>\n",
            "</td></tr>\n",
            "\n",
            "\n"
          ],
          "name": "stdout"
        }
      ]
    },
    {
      "cell_type": "markdown",
      "metadata": {
        "id": "kScIog8ohwe0",
        "colab_type": "text"
      },
      "source": [
        "This code prints the list of product rows in the giftList table, including the initial row of column labels. If you were to write it using the descendants() function instead of the children() function, about two dozen tags would be found within the table and printed, including img tags, span tags, and individual td tags. It’s definitely important to differentiate between children and descendants!\n",
        "\n",
        "Dealing with siblings\n",
        "The BeautifulSoup next_siblings() function makes it trivial to collect data from tables, especially ones with title rows:\n"
      ]
    },
    {
      "cell_type": "code",
      "metadata": {
        "id": "fmPnEfw6IcoI",
        "colab_type": "code",
        "outputId": "4ea2f275-b153-427f-90ae-fdb46fe11d51",
        "colab": {
          "base_uri": "https://localhost:8080/",
          "height": 1000
        }
      },
      "source": [
        "from urllib.request import urlopen\n",
        "from bs4 import BeautifulSoup\n",
        "\n",
        "html = urlopen('http://www.pythonscraping.com/pages/page3.html')\n",
        "bs = BeautifulSoup(html, 'html.parser')\n",
        "\n",
        "for sibling in bs.find('table', {'id':'giftList'}).tr.next_siblings:\n",
        "    print(sibling) "
      ],
      "execution_count": 8,
      "outputs": [
        {
          "output_type": "stream",
          "text": [
            "\n",
            "\n",
            "<tr class=\"gift\" id=\"gift1\"><td>\n",
            "Vegetable Basket\n",
            "</td><td>\n",
            "This vegetable basket is the perfect gift for your health conscious (or overweight) friends!\n",
            "<span class=\"excitingNote\">Now with super-colorful bell peppers!</span>\n",
            "</td><td>\n",
            "$15.00\n",
            "</td><td>\n",
            "<img src=\"../img/gifts/img1.jpg\"/>\n",
            "</td></tr>\n",
            "\n",
            "\n",
            "<tr class=\"gift\" id=\"gift2\"><td>\n",
            "Russian Nesting Dolls\n",
            "</td><td>\n",
            "Hand-painted by trained monkeys, these exquisite dolls are priceless! And by \"priceless,\" we mean \"extremely expensive\"! <span class=\"excitingNote\">8 entire dolls per set! Octuple the presents!</span>\n",
            "</td><td>\n",
            "$10,000.52\n",
            "</td><td>\n",
            "<img src=\"../img/gifts/img2.jpg\"/>\n",
            "</td></tr>\n",
            "\n",
            "\n",
            "<tr class=\"gift\" id=\"gift3\"><td>\n",
            "Fish Painting\n",
            "</td><td>\n",
            "If something seems fishy about this painting, it's because it's a fish! <span class=\"excitingNote\">Also hand-painted by trained monkeys!</span>\n",
            "</td><td>\n",
            "$10,005.00\n",
            "</td><td>\n",
            "<img src=\"../img/gifts/img3.jpg\"/>\n",
            "</td></tr>\n",
            "\n",
            "\n",
            "<tr class=\"gift\" id=\"gift4\"><td>\n",
            "Dead Parrot\n",
            "</td><td>\n",
            "This is an ex-parrot! <span class=\"excitingNote\">Or maybe he's only resting?</span>\n",
            "</td><td>\n",
            "$0.50\n",
            "</td><td>\n",
            "<img src=\"../img/gifts/img4.jpg\"/>\n",
            "</td></tr>\n",
            "\n",
            "\n",
            "<tr class=\"gift\" id=\"gift5\"><td>\n",
            "Mystery Box\n",
            "</td><td>\n",
            "If you love suprises, this mystery box is for you! Do not place on light-colored surfaces. May cause oil staining. <span class=\"excitingNote\">Keep your friends guessing!</span>\n",
            "</td><td>\n",
            "$1.50\n",
            "</td><td>\n",
            "<img src=\"../img/gifts/img6.jpg\"/>\n",
            "</td></tr>\n",
            "\n",
            "\n"
          ],
          "name": "stdout"
        }
      ]
    },
    {
      "cell_type": "markdown",
      "metadata": {
        "id": "fM43jTjtiEku",
        "colab_type": "text"
      },
      "source": [
        "The output of this code is to print all rows of products from the product table, except for the first title row. Why does the title row get skipped? Objects cannot be siblings with themselves. Anytime you get siblings of an object, the object itself will not be included in the list. As the name of the function implies, it calls next siblings only. If you were to select a row in the middle of the list, for example, and call next_siblings\n",
        "on it, only the subsequent siblings would be returned. So, by selecting the title row and calling next_siblings, you can select all the rows in the table, without selecting the title row itself\n"
      ]
    },
    {
      "cell_type": "markdown",
      "metadata": {
        "id": "bc2IgfwwiF-q",
        "colab_type": "text"
      },
      "source": [
        "Dealing with parents\n",
        "When scraping pages, you will likely discover that you need to find parents of tags less frequently than you need to find their children or siblings. Typically, when you look at HTML pages with the goal of crawling them, you start by looking at the top layer of tags, and then figure out how to drill your way down into the exact piece of data that you want. Occasionally, however, you can find yourself in odd situations that require BeautifulSoup’s parent-finding functions, .parent and .parents. For example:\n"
      ]
    },
    {
      "cell_type": "code",
      "metadata": {
        "id": "5RBVzGKjIcoM",
        "colab_type": "code",
        "outputId": "fb07814e-553d-4560-f910-76f89e698ba1",
        "colab": {
          "base_uri": "https://localhost:8080/",
          "height": 68
        }
      },
      "source": [
        "from urllib.request import urlopen\n",
        "from bs4 import BeautifulSoup\n",
        "\n",
        "html = urlopen('http://www.pythonscraping.com/pages/page3.html')\n",
        "bs = BeautifulSoup(html, 'html.parser')\n",
        "print(bs.find('img',\n",
        "              {'src':'../img/gifts/img1.jpg'})\n",
        "      .parent.previous_sibling.get_text())"
      ],
      "execution_count": 9,
      "outputs": [
        {
          "output_type": "stream",
          "text": [
            "\n",
            "$15.00\n",
            "\n"
          ],
          "name": "stdout"
        }
      ]
    },
    {
      "cell_type": "markdown",
      "metadata": {
        "id": "BNzU9W3AiatR",
        "colab_type": "text"
      },
      "source": [
        "This code will print the price of the object represented by the image at the loca‐ tion ../img/gifts/img1.jpg (in this case, the price is $15.00).\n",
        "How does this work? The following diagram represents the tree structure of the por‐ tion of the HTML page you are working with, with numbered steps:\n"
      ]
    },
    {
      "cell_type": "markdown",
      "metadata": {
        "id": "xzxMuF4Zlkrs",
        "colab_type": "text"
      },
      "source": [
        "# Regular Expressions and BeautifulSoup\n",
        "If the previous section on regular expressions seemed a little disjointed from the mis‐ sion of this book, here’s where it all ties together. BeautifulSoup and regular expres‐ sions go hand in hand when it comes to scraping the web. In fact, most functions that take in a string argument (e.g., find(id=\"aTagIdHere\")) will also take in a regular expression just as well.\n",
        "Let’s take a look at some examples, scraping the page found at http://www.python‐ scraping.com/pages/page3.html.\n",
        "Notice that the site has many product images, which take the following form:\n",
        "< img src=\"../img/gifts/img3.jpg\">\n",
        "If you wanted to grab URLs to all of the product images, it might seem fairly straight‐ forward at first: just grab all the image tags by using .find_all(\"img\"), right? But there’s a problem. In addition to the obvious “extra” images (e.g., logos), modern web sites often have hidden images, blank images used for spacing and aligning elements, and other random image tags you might not be aware of. Certainly, you can’t count on the only images on the page being product images.\n",
        "Let’s also assume that the layout of the page might change, or that, for whatever rea‐ son, you don’t want to depend on the position of the image in the page in order to find the correct tag. This might be the case when you are trying to grab specific ele‐ ments or pieces of data that are scattered randomly throughout a website. For instance, a featured product image might appear in a special layout at the top of some pages, but not others.\n",
        "The solution is to look for something identifying about the tag itself. In this case, you can look at the file path of the product images:\n",
        "\n"
      ]
    },
    {
      "cell_type": "code",
      "metadata": {
        "id": "VN9ecjzsIcoP",
        "colab_type": "code",
        "outputId": "c15f9db2-5297-4ce7-8c4c-8b5dd7ce08c0",
        "colab": {
          "base_uri": "https://localhost:8080/",
          "height": 102
        }
      },
      "source": [
        "from urllib.request import urlopen\n",
        "from bs4 import BeautifulSoup\n",
        "import re\n",
        "\n",
        "html = urlopen('http://www.pythonscraping.com/pages/page3.html')\n",
        "bs = BeautifulSoup(html, 'html.parser')\n",
        "images = bs.find_all('img', {'src':re.compile('\\.\\.\\/img\\/gifts/img.*\\.jpg')})\n",
        "for image in images: \n",
        "    print(image['src'])"
      ],
      "execution_count": 10,
      "outputs": [
        {
          "output_type": "stream",
          "text": [
            "../img/gifts/img1.jpg\n",
            "../img/gifts/img2.jpg\n",
            "../img/gifts/img3.jpg\n",
            "../img/gifts/img4.jpg\n",
            "../img/gifts/img6.jpg\n"
          ],
          "name": "stdout"
        }
      ]
    },
    {
      "cell_type": "code",
      "metadata": {
        "id": "lu2gYTq7IcoS",
        "colab_type": "code",
        "outputId": "c9598b2d-1862-44fa-906d-d943f31d5406",
        "colab": {
          "base_uri": "https://localhost:8080/",
          "height": 836
        }
      },
      "source": [
        "bs.find_all(lambda tag: len(tag.attrs) == 2)"
      ],
      "execution_count": 11,
      "outputs": [
        {
          "output_type": "execute_result",
          "data": {
            "text/plain": [
              "[<img src=\"../img/gifts/logo.jpg\" style=\"float:left;\"/>,\n",
              " <tr class=\"gift\" id=\"gift1\"><td>\n",
              " Vegetable Basket\n",
              " </td><td>\n",
              " This vegetable basket is the perfect gift for your health conscious (or overweight) friends!\n",
              " <span class=\"excitingNote\">Now with super-colorful bell peppers!</span>\n",
              " </td><td>\n",
              " $15.00\n",
              " </td><td>\n",
              " <img src=\"../img/gifts/img1.jpg\"/>\n",
              " </td></tr>,\n",
              " <tr class=\"gift\" id=\"gift2\"><td>\n",
              " Russian Nesting Dolls\n",
              " </td><td>\n",
              " Hand-painted by trained monkeys, these exquisite dolls are priceless! And by \"priceless,\" we mean \"extremely expensive\"! <span class=\"excitingNote\">8 entire dolls per set! Octuple the presents!</span>\n",
              " </td><td>\n",
              " $10,000.52\n",
              " </td><td>\n",
              " <img src=\"../img/gifts/img2.jpg\"/>\n",
              " </td></tr>,\n",
              " <tr class=\"gift\" id=\"gift3\"><td>\n",
              " Fish Painting\n",
              " </td><td>\n",
              " If something seems fishy about this painting, it's because it's a fish! <span class=\"excitingNote\">Also hand-painted by trained monkeys!</span>\n",
              " </td><td>\n",
              " $10,005.00\n",
              " </td><td>\n",
              " <img src=\"../img/gifts/img3.jpg\"/>\n",
              " </td></tr>,\n",
              " <tr class=\"gift\" id=\"gift4\"><td>\n",
              " Dead Parrot\n",
              " </td><td>\n",
              " This is an ex-parrot! <span class=\"excitingNote\">Or maybe he's only resting?</span>\n",
              " </td><td>\n",
              " $0.50\n",
              " </td><td>\n",
              " <img src=\"../img/gifts/img4.jpg\"/>\n",
              " </td></tr>,\n",
              " <tr class=\"gift\" id=\"gift5\"><td>\n",
              " Mystery Box\n",
              " </td><td>\n",
              " If you love suprises, this mystery box is for you! Do not place on light-colored surfaces. May cause oil staining. <span class=\"excitingNote\">Keep your friends guessing!</span>\n",
              " </td><td>\n",
              " $1.50\n",
              " </td><td>\n",
              " <img src=\"../img/gifts/img6.jpg\"/>\n",
              " </td></tr>]"
            ]
          },
          "metadata": {
            "tags": []
          },
          "execution_count": 11
        }
      ]
    },
    {
      "cell_type": "code",
      "metadata": {
        "id": "4loHWOImIcoX",
        "colab_type": "code",
        "outputId": "f29b7762-e709-4657-8ca8-0d239bb022eb",
        "colab": {
          "base_uri": "https://localhost:8080/",
          "height": 34
        }
      },
      "source": [
        "bs.find_all(lambda tag: tag.get_text() == 'Or maybe he\\'s only resting?')"
      ],
      "execution_count": 12,
      "outputs": [
        {
          "output_type": "execute_result",
          "data": {
            "text/plain": [
              "[<span class=\"excitingNote\">Or maybe he's only resting?</span>]"
            ]
          },
          "metadata": {
            "tags": []
          },
          "execution_count": 12
        }
      ]
    },
    {
      "cell_type": "code",
      "metadata": {
        "id": "Db2NgBZzIcoZ",
        "colab_type": "code",
        "outputId": "cb37afca-b3d1-4ff3-d8a2-fab10f1c8750",
        "colab": {
          "base_uri": "https://localhost:8080/",
          "height": 34
        }
      },
      "source": [
        "bs.find_all('', text='Or maybe he\\'s only resting?')"
      ],
      "execution_count": 13,
      "outputs": [
        {
          "output_type": "execute_result",
          "data": {
            "text/plain": [
              "[\"Or maybe he's only resting?\"]"
            ]
          },
          "metadata": {
            "tags": []
          },
          "execution_count": 13
        }
      ]
    },
    {
      "cell_type": "code",
      "metadata": {
        "id": "jrlfZelgIcod",
        "colab_type": "code",
        "colab": {}
      },
      "source": [
        ""
      ],
      "execution_count": 0,
      "outputs": []
    }
  ]
}