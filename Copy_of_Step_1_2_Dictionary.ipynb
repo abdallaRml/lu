{
  "nbformat": 4,
  "nbformat_minor": 0,
  "metadata": {
    "kernelspec": {
      "display_name": "Python 3",
      "language": "python",
      "name": "python3"
    },
    "language_info": {
      "codemirror_mode": {
        "name": "ipython",
        "version": 3
      },
      "file_extension": ".py",
      "mimetype": "text/x-python",
      "name": "python",
      "nbconvert_exporter": "python",
      "pygments_lexer": "ipython3",
      "version": "3.7.1"
    },
    "colab": {
      "name": "Copy of Step_1_2_Dictionary.ipynb",
      "provenance": [],
      "include_colab_link": true
    }
  },
  "cells": [
    {
      "cell_type": "markdown",
      "metadata": {
        "id": "view-in-github",
        "colab_type": "text"
      },
      "source": [
        "<a href=\"https://colab.research.google.com/github/abdallaRml/lu/blob/master/Copy_of_Step_1_2_Dictionary.ipynb\" target=\"_parent\"><img src=\"https://colab.research.google.com/assets/colab-badge.svg\" alt=\"Open In Colab\"/></a>"
      ]
    },
    {
      "cell_type": "markdown",
      "metadata": {
        "id": "VwW2mag38CHg",
        "colab_type": "text"
      },
      "source": [
        "### Dictionary\n",
        "\n",
        "Each key is separated from its value by a colon (:), the items are separated by commas, and the whole thing is enclosed in curly braces. An empty dictionary without any items is written with just two curly braces, like this: {}. Keys are unique within a dictionary while values may not be. The values of a dictionary can be of any type, but the keys must be of an immutable data type such as strings, numbers, or tuples."
      ]
    },
    {
      "cell_type": "markdown",
      "metadata": {
        "id": "2SveZRAI8CHi",
        "colab_type": "text"
      },
      "source": [
        "### Creating a dictionary"
      ]
    },
    {
      "cell_type": "code",
      "metadata": {
        "id": "Gs_YkKG-8CHk",
        "colab_type": "code",
        "outputId": "18d3442e-e141-4028-f880-2ae75ad55e3f",
        "colab": {}
      },
      "source": [
        "# Creating a dictionary\n",
        "dict = {'Name': 'Jivin', 'Age': 8, 'Class': 'Three'}\n",
        "\n",
        "print (\"Sample dictionary: \", dict)"
      ],
      "execution_count": 0,
      "outputs": [
        {
          "output_type": "stream",
          "text": [
            "Sample dictionary:  {'Name': 'Jivin', 'Age': 8, 'Class': 'Three'}\n"
          ],
          "name": "stdout"
        }
      ]
    },
    {
      "cell_type": "markdown",
      "metadata": {
        "id": "8bMfHSkO8CHq",
        "colab_type": "text"
      },
      "source": [
        "### Accessing items from dictionary"
      ]
    },
    {
      "cell_type": "code",
      "metadata": {
        "id": "bWWzN4j58CHr",
        "colab_type": "code",
        "outputId": "05ac7887-2f73-4819-9adf-f9e2d17eaab1",
        "colab": {}
      },
      "source": [
        "# Accessing items from dictionary\n",
        "\n",
        "print (\"Value of key Name, from sample dictionary:\", dict['Name'])"
      ],
      "execution_count": 0,
      "outputs": [
        {
          "output_type": "stream",
          "text": [
            "Value of key Name, from sample dictionary: Jivin\n"
          ],
          "name": "stdout"
        }
      ]
    },
    {
      "cell_type": "markdown",
      "metadata": {
        "id": "WhtfG1sy8CHv",
        "colab_type": "text"
      },
      "source": [
        "### Deleting a dictionary"
      ]
    },
    {
      "cell_type": "code",
      "metadata": {
        "id": "g_Imhgr48CHw",
        "colab_type": "code",
        "outputId": "5d994f34-d324-4f1b-b9da-e98df184fa85",
        "colab": {
          "base_uri": "https://localhost:8080/",
          "height": 68
        }
      },
      "source": [
        "# Deleting a dictionary\n",
        "dict = {'Name': 'Jivin', 'Age': 8, 'Class': 'Three'}\n",
        "print (\"Sample dictionary: \", dict)\n",
        "del dict['Name'] # Delete specific item\n",
        "print (\"Sample dictionary post deletion of item Name:\", dict)\n",
        "\n",
        "dict = {'Name': 'Jivin', 'Age': 8, 'Class': 'Three'}\n",
        "dict.clear() # Clear all the contents of dictionary\n",
        "print (\"dict post dict.clear():\", dict)\n",
        "\n",
        "dict = {'Name': 'Jivin', 'Age': 8, 'Class': 'Three'}\n",
        "del dict # Delete the dictionary"
      ],
      "execution_count": 0,
      "outputs": [
        {
          "output_type": "stream",
          "text": [
            "Sample dictionary:  {'Name': 'Jivin', 'Age': 8, 'Class': 'Three'}\n",
            "Sample dictionary post deletion of item Name: {'Age': 8, 'Class': 'Three'}\n",
            "dict post dict.clear(): {}\n"
          ],
          "name": "stdout"
        }
      ]
    },
    {
      "cell_type": "markdown",
      "metadata": {
        "id": "kYeElTLy8CH0",
        "colab_type": "text"
      },
      "source": [
        "### Updating a dictionary"
      ]
    },
    {
      "cell_type": "code",
      "metadata": {
        "id": "mjhUJJQK8CH1",
        "colab_type": "code",
        "outputId": "eaf5ef1b-d4ac-4dbf-ca82-6f65fff8187d",
        "colab": {}
      },
      "source": [
        "# Updating a dictionary\n",
        "\n",
        "dict = {'Name': 'Jivin', 'Age': 8, 'Class': 'Three'}\n",
        "print (\"Sample dictionary: \", dict)\n",
        "dict['Age'] = 8.5\n",
        "\n",
        "print (\"Dictionary post age value update: \", dict)"
      ],
      "execution_count": 0,
      "outputs": [
        {
          "output_type": "stream",
          "text": [
            "Sample dictionary:  {'Name': 'Jivin', 'Age': 8, 'Class': 'Three'}\n",
            "Dictionary post age value update:  {'Name': 'Jivin', 'Age': 8.5, 'Class': 'Three'}\n"
          ],
          "name": "stdout"
        }
      ]
    },
    {
      "cell_type": "markdown",
      "metadata": {
        "id": "sWLBcnZr8CH5",
        "colab_type": "text"
      },
      "source": [
        "### Basic operations on dictionary"
      ]
    },
    {
      "cell_type": "code",
      "metadata": {
        "id": "DJhRol4s8CH7",
        "colab_type": "code",
        "outputId": "2338a301-e010-4d3a-cc0d-16d4dd4d70f3",
        "colab": {}
      },
      "source": [
        "# Basic operations\n",
        "\n",
        "dict = {'Name': 'Jivin', 'Age': 8, 'Class': 'Three'}\n",
        "print (\"Length of dict: \", len(dict))\n",
        "\n",
        "dict1 = {'Name': 'Jivin', 'Age': 8};\n",
        "dict2 = {'Name': 'Pratham', 'Age': 9};\n",
        "dict3 = {'Name': 'Pranuth', 'Age': 7};\n",
        "dict4 = {'Name': 'Jivin', 'Age': 8};\n",
        "\n",
        "# String representation of dictionary\n",
        "dict = {'Name': 'Jivin', 'Age': 8}\n",
        "print (\"Equivalent String: \", str (dict))\n",
        "\n",
        "# Copy the dict\n",
        "dict1 = dict.copy()\n",
        "print (dict1)\n",
        "\n",
        "# Create new dictionary with keys from tuple and values to set value\n",
        "seq = ('name', 'age', 'sex')\n",
        "\n",
        "dict = dict.fromkeys(seq)\n",
        "print (\"New Dictionary: \", str(dict))\n",
        "\n",
        "dict = dict.fromkeys(seq, 10)\n",
        "print (\"New Dictionary: \", str(dict))\n",
        "\n",
        "# Retrieve value for a given key\n",
        "dict = {'Name': 'Jivin', 'Age': 8};\n",
        "print (\"Value for Age: \", dict.get('Age'))\n",
        "# Since the key Education does not exist, the second argument will be returned\n",
        "print (\"Value for Education: \", dict.get('Education', \"First Grade\"))\n",
        "\n",
        "# Check if key in dictionary\n",
        "print (\"Age exists? \", 'Age' in dict)\n",
        "print (\"Sex exists? \", 'Sex' in dict)\n",
        "\n",
        "# Return items of dictionary\n",
        "print (\"dict items: \", dict.items())\n",
        "\n",
        "# Return items of keys\n",
        "print (\"dict keys: \", dict.keys())\n",
        "\n",
        "# return values of dict\n",
        "print (\"Value of dict: \",  dict.values())\n",
        "\n",
        "# if key does not exists, then the arguments will be added to dict and returned\n",
        "print (\"Value for Age : \", dict.setdefault('Age', None))\n",
        "print (\"Value for Sex: \", dict.setdefault('Sex', None))\n",
        "\n",
        "# Concatenate dicts\n",
        "dict = {'Name': 'Jivin', 'Age': 8}\n",
        "dict2 = {'Sex': 'male' }\n",
        "\n",
        "dict.update(dict2)\n",
        "print (\"dict.update(dict2) = \",  dict)"
      ],
      "execution_count": 0,
      "outputs": [
        {
          "output_type": "stream",
          "text": [
            "Length of dict:  3\n",
            "Equivalent String:  {'Name': 'Jivin', 'Age': 8}\n",
            "{'Name': 'Jivin', 'Age': 8}\n",
            "New Dictionary:  {'name': None, 'age': None, 'sex': None}\n",
            "New Dictionary:  {'name': 10, 'age': 10, 'sex': 10}\n",
            "Value for Age:  8\n",
            "Value for Education:  First Grade\n",
            "Age exists?  True\n",
            "Sex exists?  False\n",
            "dict items:  dict_items([('Name', 'Jivin'), ('Age', 8)])\n",
            "dict keys:  dict_keys(['Name', 'Age'])\n",
            "Value of dict:  dict_values(['Jivin', 8])\n",
            "Value for Age :  8\n",
            "Value for Sex:  None\n",
            "dict.update(dict2) =  {'Name': 'Jivin', 'Age': 8, 'Sex': 'male'}\n"
          ],
          "name": "stdout"
        }
      ]
    }
  ]
}